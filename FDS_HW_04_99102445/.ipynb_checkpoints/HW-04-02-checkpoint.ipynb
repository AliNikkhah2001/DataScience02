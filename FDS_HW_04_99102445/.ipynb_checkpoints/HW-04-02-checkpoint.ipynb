{
 "cells": [
  {
   "cell_type": "markdown",
   "metadata": {},
   "source": [
    "# Assignment 4. Deep Learning\n",
    "\n",
    "*Foundations of Data Science*  \n",
    "*Dr. Khalaj (Fall 2023)*  \n",
    "\n",
    "*For questions 2-4 refer to @alregamo on Telegram.*\n",
    "\n",
    "### Description  \n",
    "This homework consists of four questions, each aimed at one category in the world of Deep Learning.   \n",
    "1. Getting familiarized with sentiment analysis (A subject also covered in the course project).\n",
    "   \n",
    "2. Multi-layer perceptron (MLP). \n",
    "   \n",
    "3. Convolutional Neural Networks (CNN).\n",
    "   \n",
    "4. Variational Autoencoders (VAE).\n",
    "\n",
    "### Information  \n",
    "Complete the information box below."
   ]
  },
  {
   "cell_type": "code",
   "execution_count": 106,
   "metadata": {},
   "outputs": [],
   "source": [
    "full_name = 'Ali Nikkhah'\n",
    "student_id = '99102445'"
   ]
  },
  {
   "cell_type": "markdown",
   "metadata": {},
   "source": [
    "### Note\n",
    "The questions are not necessarily in order of difficulty. You are obligated to answer **3 out of 4** questions. The fourth question is optional and is considered as bonus."
   ]
  },
  {
   "cell_type": "markdown",
   "metadata": {},
   "source": [
    "## 2 Multi-layer Perceptron (MLP)"
   ]
  },
  {
   "cell_type": "markdown",
   "metadata": {},
   "source": [
    "**In this assignment you'll be working with Dorothea Dataset.**\n",
    "\n",
    "DOROTHEA is a drug discovery dataset. Chemical compounds represented by structural molecular features must be classified as active (binding to thrombin) or inactive. To find out more about dataset, refer to this link: https://archive.ics.uci.edu/ml/datasets/Dorothea\n",
    "\n",
    "You should implement a classifier with Neural Networks and for this purpose we will be using PyTorch as framework."
   ]
  },
  {
   "cell_type": "markdown",
   "metadata": {},
   "source": [
    "### 2.1 Importing libraries, modules and Dataset."
   ]
  },
  {
   "cell_type": "markdown",
   "metadata": {},
   "source": [
    "In this part, import all the libraries and modules needed to solve the problem."
   ]
  },
  {
   "cell_type": "code",
   "execution_count": 107,
   "metadata": {},
   "outputs": [],
   "source": [
    "import os\n",
    "import random \n",
    "import torch \n",
    "import torch.nn as nn\n",
    "import numpy as np\n",
    "from sklearn.decomposition import PCA as sklearnPCA\n",
    "from sklearn.naive_bayes import BernoulliNB"
   ]
  },
  {
   "cell_type": "code",
   "execution_count": 108,
   "metadata": {},
   "outputs": [
    {
     "name": "stdout",
     "output_type": "stream",
     "text": [
      "Dataset extracted successfully!\n"
     ]
    }
   ],
   "source": [
    "import requests\n",
    "import zipfile\n",
    "import io\n",
    "\n",
    "# URL of the dataset zip file\n",
    "url = 'https://archive.ics.uci.edu/static/public/169/dorothea.zip'\n",
    "\n",
    "# Send a GET request to download the file\n",
    "response = requests.get(url)\n",
    "\n",
    "# Check if the request was successful (status code 200)\n",
    "if response.status_code == 200:\n",
    "    # Read the content of the zip file\n",
    "    zip_content = io.BytesIO(response.content)\n",
    "    \n",
    "    # Extract the contents of the zip file\n",
    "    with zipfile.ZipFile(zip_content, 'r') as zip_ref:\n",
    "        zip_ref.extractall('dorothea')  # Replace 'path_to_extract' with the desired extraction path\n",
    "    print(\"Dataset extracted successfully!\")\n",
    "else:\n",
    "    print(\"Failed to download the dataset.\")\n"
   ]
  },
  {
   "cell_type": "code",
   "execution_count": 109,
   "metadata": {},
   "outputs": [],
   "source": [
    "from tqdm import tqdm\n",
    "import pandas as pd\n",
    "import numpy as np\n",
    "\n",
    "def loadData(trainingFile, testingFile):\n",
    "\n",
    "    def convertDataframe(inputFile):\n",
    "        data = pd.DataFrame(columns=range(100000))\n",
    "\n",
    "        for i in tqdm(range(len(inputFile)), desc=\"Converting to DataFrame\"):\n",
    "            record = np.fromstring(inputFile[i], dtype=int, sep=' ')\n",
    "            record_bool = [0 for j in range(100000)]\n",
    "            for col in record:\n",
    "                record_bool[col - 1] = 1\n",
    "\n",
    "            data.loc[i] = record_bool\n",
    "\n",
    "        return data\n",
    "\n",
    "    with open(trainingFile, \"r\") as fr1:\n",
    "        trainFile = fr1.readlines()\n",
    "\n",
    "    # Split each line in the two files into label and data\n",
    "    train_data_list = []\n",
    "    train_labels_list = []\n",
    "\n",
    "    for inputData in trainFile:\n",
    "        train_labels_list.append(inputData[0])\n",
    "\n",
    "        # Remove the activity label (0/1) and new line character from each record\n",
    "        inputData = inputData.replace(\"0\\t\", \"\")\n",
    "        inputData = inputData.replace(\"1\\t\", \"\")\n",
    "        inputData = inputData.replace(\"\\n\", \"\")\n",
    "        train_data_list.append(inputData)\n",
    "\n",
    "    train_labels = np.asarray(train_labels_list)\n",
    "    train_data = convertDataframe(train_data_list)\n",
    "\n",
    "    with open(testingFile, \"r\") as fr2:\n",
    "        testFile = fr2.readlines()\n",
    "\n",
    "    test_data = convertDataframe(testFile)\n",
    "\n",
    "    return train_data, test_data, train_labels\n"
   ]
  },
  {
   "cell_type": "code",
   "execution_count": 110,
   "metadata": {},
   "outputs": [
    {
     "name": "stderr",
     "output_type": "stream",
     "text": [
      "Converting to DataFrame: 100%|████████████████| 800/800 [01:18<00:00, 10.25it/s]\n",
      "Converting to DataFrame: 100%|████████████████| 800/800 [01:21<00:00,  9.85it/s]\n"
     ]
    }
   ],
   "source": [
    "#Read the training and the test data set and get 3 separate dataframes of training reviews, test reviews and training labels\n",
    "train_data, test_data, train_labels = loadData('dorothea_train.data', 'dorothea_test.data')"
   ]
  },
  {
   "cell_type": "markdown",
   "metadata": {},
   "source": [
    "### 2.2 Normalize and 2.3 Dimensionality Reduction\n",
    "You can normalize your data using <code>Scikit-Learn</code> modules here.\n",
    "\n",
    "There are too many attributes for each instance of dataset. We will suffer from sparse data and long training phase. Thus you can reduce dimensions to get better accuracy. \n",
    "\n",
    "Principal component analysis (PCA) is the process of computing the principal components and using them to perform a change of basis on the data.\n",
    "\n",
    "Apply PCA on Dorothea dataSet using <code>Scikit-Learn</code>."
   ]
  },
  {
   "cell_type": "code",
   "execution_count": 96,
   "metadata": {},
   "outputs": [],
   "source": [
    "import pandas as pd\n",
    "import numpy as np\n",
    "import matplotlib.pyplot as plt\n",
    "from sklearn.decomposition import PCA\n",
    "from tqdm import tqdm"
   ]
  },
  {
   "cell_type": "code",
   "execution_count": 113,
   "metadata": {},
   "outputs": [],
   "source": [
    "def findOptimalPCA(train_data):\n",
    "    variance_info = []\n",
    "    k = 100\n",
    "    pca = PCA(n_components=k)\n",
    "    pca.fit(train_data)\n",
    "    total_var = sum(pca.explained_variance_ratio_)\n",
    "    variance_info.append(total_var)\n",
    "    while total_var < 0.9:\n",
    "        print('finding PCA for k=',k)\n",
    "        if(k<700):\n",
    "            k += 100\n",
    "            pca = PCA(n_components=k)\n",
    "            pca.fit(train_data)\n",
    "            total_var = sum(pca.explained_variance_ratio_)\n",
    "            variance_info.append(total_var)\n",
    "        else:\n",
    "            break;\n",
    "    return variance_info\n",
    "def plotVarianceInfo(variance_info):\n",
    "    k_values = range(100, len(variance_info) * 100 + 100, 100)\n",
    "    plt.figure(figsize=(10, 6))\n",
    "    plt.plot(k_values, variance_info, marker='o', linestyle='-', color='r')\n",
    "    plt.xlabel('Number of Components (k)')\n",
    "    plt.ylabel('Variance Information Stored')\n",
    "    plt.title('Variance Information vs Number of Components')\n",
    "    plt.grid(True)\n",
    "    plt.show()"
   ]
  },
  {
   "cell_type": "code",
   "execution_count": 114,
   "metadata": {},
   "outputs": [
    {
     "name": "stdout",
     "output_type": "stream",
     "text": [
      "finding PCA for k= 100\n",
      "finding PCA for k= 200\n",
      "finding PCA for k= 300\n",
      "finding PCA for k= 400\n",
      "finding PCA for k= 500\n",
      "finding PCA for k= 600\n"
     ]
    },
    {
     "data": {
      "image/png": "[encoded data removed]",
      "text/plain": [
       "<Figure size 1000x600 with 1 Axes>"
      ]
     },
     "metadata": {},
     "output_type": "display_data"
    }
   ],
   "source": [
    "variance_info = findOptimalPCA(train_data)\n",
    "plotVarianceInfo(variance_info)"
   ]
  },
  {
   "cell_type": "markdown",
   "metadata": {},
   "source": [
    "## as a result of representation plot above, we choose `k=600' for keeping a suitable variance information fraction of the whole data features"
   ]
  },
  {
   "cell_type": "code",
   "execution_count": 115,
   "metadata": {},
   "outputs": [],
   "source": [
    "from sklearn.decomposition import PCA\n",
    "pca = PCA(n_components=600)\n",
    "# Fit PCA on the training data\n",
    "pca.fit(train_data)\n",
    "# Transform both training and test data using the fitted PCA\n",
    "PCA_projected_trainData = pca.transform(train_data)\n",
    "PCA_projected_testData = pca.transform(test_data)"
   ]
  },
  {
   "cell_type": "code",
   "execution_count": 128,
   "metadata": {},
   "outputs": [],
   "source": [
    "with open('dorothea_train.labels', 'r') as file:\n",
    "    labels_content = file.read().strip().split('\\n')\n",
    "train_labels = [int(label) for label in labels_content]\n",
    "train_data_tensor = torch.tensor(PCA_projected_trainData, dtype=torch.float32)\n",
    "test_data_tensor = torch.tensor(PCA_projected_testData, dtype=torch.float32)\n",
    "train_labels_tensor = torch.tensor(train_labels, dtype=torch.float32)  \n",
    "train_dataset = torch.utils.data.TensorDataset(train_data_tensor, train_labels_tensor)\n"
   ]
  },
  {
   "cell_type": "code",
   "execution_count": 130,
   "metadata": {},
   "outputs": [
    {
     "name": "stdout",
     "output_type": "stream",
     "text": [
      "Shapes of Datasets:\n",
      "PCA_projected_trainData shape: (800, 600)\n",
      "PCA_projected_testData shape: (800, 600)\n",
      "Train labels shape: torch.Size([800])\n",
      "\n",
      "First 5 examples of PCA_projected_trainData:\n",
      "[[-1.12584445 -0.12837353 -0.10291938 ... -0.28345024  0.20749011\n",
      "   1.27134227]\n",
      " [-1.30844441  0.19354601 -0.40506272 ... -1.45733955 -0.46814226\n",
      "   1.84698403]\n",
      " [-1.40497997  0.09785226 -0.34536834 ...  1.87292645 -1.24619908\n",
      "   1.82787391]\n",
      " [-1.36145142  0.19097857 -0.23019886 ... -0.62010232 -0.18321336\n",
      "   0.58993154]\n",
      " [-1.09250758  0.36739534 -0.30892417 ... -0.52329051  0.36827169\n",
      "   2.61303183]]\n",
      "\n",
      "First 5 train labels:\n",
      "tensor([-1., -1., -1., -1., -1.])\n"
     ]
    }
   ],
   "source": [
    "print(\"Shapes of Datasets:\")\n",
    "print(\"PCA_projected_trainData shape:\", PCA_projected_trainData.shape)\n",
    "print(\"PCA_projected_testData shape:\", PCA_projected_testData.shape)\n",
    "print(\"Train labels shape:\", train_labels_tensor.shape)\n",
    "# Display head of 5 examples\n",
    "num_examples_to_display = 5\n",
    "# Assuming PCA_projected_trainData and PCA_projected_testData are NumPy arrays\n",
    "print(\"\\nFirst 5 examples of PCA_projected_trainData:\")\n",
    "print(PCA_projected_trainData[:num_examples_to_display])\n",
    "# Display head of 5 train and test labels\n",
    "print(\"\\nFirst 5 train labels:\")\n",
    "print(train_labels_tensor[:num_examples_to_display])"
   ]
  },
  {
   "cell_type": "markdown",
   "metadata": {},
   "source": [
    "### 2.4 Define Model\n",
    "\n"
   ]
  },
  {
   "cell_type": "code",
   "execution_count": 141,
   "metadata": {},
   "outputs": [],
   "source": [
    "class DrugClassifier(nn.Module):\n",
    "    def __init__(self, input_dim):\n",
    "        super(DrugClassifier, self).__init__()\n",
    "        self.fc1 = nn.Linear(input_dim, 256)\n",
    "        self.relu = nn.ReLU()  \n",
    "        self.fc2 = nn.Linear(256, 128)\n",
    "        self.relu = nn.ReLU()  \n",
    "        self.fc3 = nn.Linear(128, 64)\n",
    "        self.relu = nn.ReLU()  \n",
    "        self.fc4 = nn.Linear(64, 32)\n",
    "        self.relu = nn.ReLU()  \n",
    "        self.fc5 = nn.Linear(32, 1)  # Output layer for binary classification\n",
    "    def forward(self, x):\n",
    "        x = self.fc1(x)\n",
    "        x = self.relu(x)  \n",
    "        x = self.fc2(x)\n",
    "        x = self.relu(x)\n",
    "        x = self.fc3(x)\n",
    "        x = self.relu(x)  \n",
    "        x = self.fc4(x)\n",
    "        x = self.relu(x) \n",
    "        x = self.fc5(x)\n",
    "        return x"
   ]
  },
  {
   "cell_type": "markdown",
   "metadata": {},
   "source": [
    "### 2.5 Train the model"
   ]
  },
  {
   "cell_type": "markdown",
   "metadata": {},
   "source": [
    "**Initialize model, define hyperparameters, optimizer, loss function, etc.**\n",
    "\n"
   ]
  },
  {
   "cell_type": "code",
   "execution_count": 142,
   "metadata": {},
   "outputs": [],
   "source": [
    "import torch\n",
    "import torch.nn as nn\n",
    "import torch.optim as optim\n",
    "import numpy as np\n",
    "import matplotlib.pyplot as plt\n",
    "# Step 3: Training\n",
    "def train_model(model, train_loader, criterion, optimizer, num_epochs=10, print_interval=1):\n",
    "    model.train()\n",
    "    total_batches = len(train_loader)\n",
    "    loss_values = []\n",
    "    accuracy_values = []\n",
    "    for epoch in range(num_epochs):\n",
    "        running_loss = 0.0\n",
    "        correct = 0\n",
    "        total = 0\n",
    "        for batch_idx, (data, labels) in enumerate(train_loader, 1):\n",
    "            # Forward pass\n",
    "            outputs = model(data)\n",
    "            loss = criterion(outputs, labels)\n",
    "            labels = labels.unsqueeze(1) \n",
    "            print(labels.shape())\n",
    "            # Backward pass and optimization\n",
    "            optimizer.zero_grad()\n",
    "            loss.backward()\n",
    "            optimizer.step()\n",
    "            running_loss += loss.item()\n",
    "            # Calculate accuracy\n",
    "            _, predicted = torch.max(outputs, 1)\n",
    "            total += labels.size(0)\n",
    "            correct += (predicted == labels).sum().item()\n",
    "        epoch_loss = running_loss / total_batches\n",
    "        epoch_accuracy = 100 * correct / total\n",
    "        loss_values.append(epoch_loss)\n",
    "        accuracy_values.append(epoch_accuracy)\n",
    "        if epoch % print_interval == 0 or epoch == num_epochs - 1:\n",
    "            print(f'Epoch [{epoch + 1}/{num_epochs}], Loss: {epoch_loss:.4f}, Accuracy: {epoch_accuracy:.2f}%')\n",
    "    # Plotting accuracy and loss\n",
    "    epochs = np.arange(1, num_epochs + 1)\n",
    "    plt.figure(figsize=(10, 5))\n",
    "\n",
    "    plt.subplot(1, 2, 1)\n",
    "    plt.plot(epochs, loss_values, label='Training Loss')\n",
    "    plt.xlabel('Epochs')\n",
    "    plt.ylabel('Loss')\n",
    "    plt.title('Training Loss vs Epochs')\n",
    "    plt.legend()\n",
    "\n",
    "    plt.subplot(1, 2, 2)\n",
    "    plt.plot(epochs, accuracy_values, label='Training Accuracy')\n",
    "    plt.xlabel('Epochs')\n",
    "    plt.ylabel('Accuracy')\n",
    "    plt.title('Training Accuracy vs Epochs')\n",
    "    plt.legend()\n",
    "\n",
    "    plt.tight_layout()\n",
    "    plt.show()\n"
   ]
  },
  {
   "cell_type": "markdown",
   "metadata": {},
   "source": [
    "**After the training process, plot metrics such as loss function values.**"
   ]
  },
  {
   "cell_type": "code",
   "execution_count": 143,
   "metadata": {},
   "outputs": [
    {
     "ename": "ValueError",
     "evalue": "Target size (torch.Size([64])) must be the same as input size (torch.Size([64, 1]))",
     "output_type": "error",
     "traceback": [
      "\u001b[0;31m---------------------------------------------------------------------------\u001b[0m",
      "\u001b[0;31mValueError\u001b[0m                                Traceback (most recent call last)",
      "Cell \u001b[0;32mIn[143], line 10\u001b[0m\n\u001b[1;32m      7\u001b[0m batch_size \u001b[38;5;241m=\u001b[39m \u001b[38;5;241m64\u001b[39m  \u001b[38;5;66;03m# Choose your desired batch size\u001b[39;00m\n\u001b[1;32m      9\u001b[0m train_loader \u001b[38;5;241m=\u001b[39m torch\u001b[38;5;241m.\u001b[39mutils\u001b[38;5;241m.\u001b[39mdata\u001b[38;5;241m.\u001b[39mDataLoader(train_dataset, batch_size\u001b[38;5;241m=\u001b[39mbatch_size, shuffle\u001b[38;5;241m=\u001b[39m\u001b[38;5;28;01mTrue\u001b[39;00m)\n\u001b[0;32m---> 10\u001b[0m \u001b[43mtrain_model\u001b[49m\u001b[43m(\u001b[49m\u001b[43mmodel\u001b[49m\u001b[43m,\u001b[49m\u001b[43m \u001b[49m\u001b[43mtrain_loader\u001b[49m\u001b[43m,\u001b[49m\u001b[43m \u001b[49m\u001b[43mcriterion\u001b[49m\u001b[43m,\u001b[49m\u001b[43m \u001b[49m\u001b[43moptimizer\u001b[49m\u001b[43m)\u001b[49m\n",
      "Cell \u001b[0;32mIn[142], line 19\u001b[0m, in \u001b[0;36mtrain_model\u001b[0;34m(model, train_loader, criterion, optimizer, num_epochs, print_interval)\u001b[0m\n\u001b[1;32m     16\u001b[0m \u001b[38;5;28;01mfor\u001b[39;00m batch_idx, (data, labels) \u001b[38;5;129;01min\u001b[39;00m \u001b[38;5;28menumerate\u001b[39m(train_loader, \u001b[38;5;241m1\u001b[39m):\n\u001b[1;32m     17\u001b[0m     \u001b[38;5;66;03m# Forward pass\u001b[39;00m\n\u001b[1;32m     18\u001b[0m     outputs \u001b[38;5;241m=\u001b[39m model(data)\n\u001b[0;32m---> 19\u001b[0m     loss \u001b[38;5;241m=\u001b[39m \u001b[43mcriterion\u001b[49m\u001b[43m(\u001b[49m\u001b[43moutputs\u001b[49m\u001b[43m,\u001b[49m\u001b[43m \u001b[49m\u001b[43mlabels\u001b[49m\u001b[43m)\u001b[49m\n\u001b[1;32m     20\u001b[0m     labels \u001b[38;5;241m=\u001b[39m labels\u001b[38;5;241m.\u001b[39munsqueeze(\u001b[38;5;241m1\u001b[39m) \n\u001b[1;32m     21\u001b[0m     \u001b[38;5;28mprint\u001b[39m(labels\u001b[38;5;241m.\u001b[39mshape())\n",
      "File \u001b[0;32m/Library/Frameworks/Python.framework/Versions/3.11/lib/python3.11/site-packages/torch/nn/modules/module.py:1518\u001b[0m, in \u001b[0;36mModule._wrapped_call_impl\u001b[0;34m(self, *args, **kwargs)\u001b[0m\n\u001b[1;32m   1516\u001b[0m     \u001b[38;5;28;01mreturn\u001b[39;00m \u001b[38;5;28mself\u001b[39m\u001b[38;5;241m.\u001b[39m_compiled_call_impl(\u001b[38;5;241m*\u001b[39margs, \u001b[38;5;241m*\u001b[39m\u001b[38;5;241m*\u001b[39mkwargs)  \u001b[38;5;66;03m# type: ignore[misc]\u001b[39;00m\n\u001b[1;32m   1517\u001b[0m \u001b[38;5;28;01melse\u001b[39;00m:\n\u001b[0;32m-> 1518\u001b[0m     \u001b[38;5;28;01mreturn\u001b[39;00m \u001b[38;5;28;43mself\u001b[39;49m\u001b[38;5;241;43m.\u001b[39;49m\u001b[43m_call_impl\u001b[49m\u001b[43m(\u001b[49m\u001b[38;5;241;43m*\u001b[39;49m\u001b[43margs\u001b[49m\u001b[43m,\u001b[49m\u001b[43m \u001b[49m\u001b[38;5;241;43m*\u001b[39;49m\u001b[38;5;241;43m*\u001b[39;49m\u001b[43mkwargs\u001b[49m\u001b[43m)\u001b[49m\n",
      "File \u001b[0;32m/Library/Frameworks/Python.framework/Versions/3.11/lib/python3.11/site-packages/torch/nn/modules/module.py:1527\u001b[0m, in \u001b[0;36mModule._call_impl\u001b[0;34m(self, *args, **kwargs)\u001b[0m\n\u001b[1;32m   1522\u001b[0m \u001b[38;5;66;03m# If we don't have any hooks, we want to skip the rest of the logic in\u001b[39;00m\n\u001b[1;32m   1523\u001b[0m \u001b[38;5;66;03m# this function, and just call forward.\u001b[39;00m\n\u001b[1;32m   1524\u001b[0m \u001b[38;5;28;01mif\u001b[39;00m \u001b[38;5;129;01mnot\u001b[39;00m (\u001b[38;5;28mself\u001b[39m\u001b[38;5;241m.\u001b[39m_backward_hooks \u001b[38;5;129;01mor\u001b[39;00m \u001b[38;5;28mself\u001b[39m\u001b[38;5;241m.\u001b[39m_backward_pre_hooks \u001b[38;5;129;01mor\u001b[39;00m \u001b[38;5;28mself\u001b[39m\u001b[38;5;241m.\u001b[39m_forward_hooks \u001b[38;5;129;01mor\u001b[39;00m \u001b[38;5;28mself\u001b[39m\u001b[38;5;241m.\u001b[39m_forward_pre_hooks\n\u001b[1;32m   1525\u001b[0m         \u001b[38;5;129;01mor\u001b[39;00m _global_backward_pre_hooks \u001b[38;5;129;01mor\u001b[39;00m _global_backward_hooks\n\u001b[1;32m   1526\u001b[0m         \u001b[38;5;129;01mor\u001b[39;00m _global_forward_hooks \u001b[38;5;129;01mor\u001b[39;00m _global_forward_pre_hooks):\n\u001b[0;32m-> 1527\u001b[0m     \u001b[38;5;28;01mreturn\u001b[39;00m \u001b[43mforward_call\u001b[49m\u001b[43m(\u001b[49m\u001b[38;5;241;43m*\u001b[39;49m\u001b[43margs\u001b[49m\u001b[43m,\u001b[49m\u001b[43m \u001b[49m\u001b[38;5;241;43m*\u001b[39;49m\u001b[38;5;241;43m*\u001b[39;49m\u001b[43mkwargs\u001b[49m\u001b[43m)\u001b[49m\n\u001b[1;32m   1529\u001b[0m \u001b[38;5;28;01mtry\u001b[39;00m:\n\u001b[1;32m   1530\u001b[0m     result \u001b[38;5;241m=\u001b[39m \u001b[38;5;28;01mNone\u001b[39;00m\n",
      "File \u001b[0;32m/Library/Frameworks/Python.framework/Versions/3.11/lib/python3.11/site-packages/torch/nn/modules/loss.py:725\u001b[0m, in \u001b[0;36mBCEWithLogitsLoss.forward\u001b[0;34m(self, input, target)\u001b[0m\n\u001b[1;32m    724\u001b[0m \u001b[38;5;28;01mdef\u001b[39;00m \u001b[38;5;21mforward\u001b[39m(\u001b[38;5;28mself\u001b[39m, \u001b[38;5;28minput\u001b[39m: Tensor, target: Tensor) \u001b[38;5;241m-\u001b[39m\u001b[38;5;241m>\u001b[39m Tensor:\n\u001b[0;32m--> 725\u001b[0m     \u001b[38;5;28;01mreturn\u001b[39;00m \u001b[43mF\u001b[49m\u001b[38;5;241;43m.\u001b[39;49m\u001b[43mbinary_cross_entropy_with_logits\u001b[49m\u001b[43m(\u001b[49m\u001b[38;5;28;43minput\u001b[39;49m\u001b[43m,\u001b[49m\u001b[43m \u001b[49m\u001b[43mtarget\u001b[49m\u001b[43m,\u001b[49m\n\u001b[1;32m    726\u001b[0m \u001b[43m                                              \u001b[49m\u001b[38;5;28;43mself\u001b[39;49m\u001b[38;5;241;43m.\u001b[39;49m\u001b[43mweight\u001b[49m\u001b[43m,\u001b[49m\n\u001b[1;32m    727\u001b[0m \u001b[43m                                              \u001b[49m\u001b[43mpos_weight\u001b[49m\u001b[38;5;241;43m=\u001b[39;49m\u001b[38;5;28;43mself\u001b[39;49m\u001b[38;5;241;43m.\u001b[39;49m\u001b[43mpos_weight\u001b[49m\u001b[43m,\u001b[49m\n\u001b[1;32m    728\u001b[0m \u001b[43m                                              \u001b[49m\u001b[43mreduction\u001b[49m\u001b[38;5;241;43m=\u001b[39;49m\u001b[38;5;28;43mself\u001b[39;49m\u001b[38;5;241;43m.\u001b[39;49m\u001b[43mreduction\u001b[49m\u001b[43m)\u001b[49m\n",
      "File \u001b[0;32m/Library/Frameworks/Python.framework/Versions/3.11/lib/python3.11/site-packages/torch/nn/functional.py:3193\u001b[0m, in \u001b[0;36mbinary_cross_entropy_with_logits\u001b[0;34m(input, target, weight, size_average, reduce, reduction, pos_weight)\u001b[0m\n\u001b[1;32m   3190\u001b[0m     reduction_enum \u001b[38;5;241m=\u001b[39m _Reduction\u001b[38;5;241m.\u001b[39mget_enum(reduction)\n\u001b[1;32m   3192\u001b[0m \u001b[38;5;28;01mif\u001b[39;00m \u001b[38;5;129;01mnot\u001b[39;00m (target\u001b[38;5;241m.\u001b[39msize() \u001b[38;5;241m==\u001b[39m \u001b[38;5;28minput\u001b[39m\u001b[38;5;241m.\u001b[39msize()):\n\u001b[0;32m-> 3193\u001b[0m     \u001b[38;5;28;01mraise\u001b[39;00m \u001b[38;5;167;01mValueError\u001b[39;00m(\u001b[38;5;124mf\u001b[39m\u001b[38;5;124m\"\u001b[39m\u001b[38;5;124mTarget size (\u001b[39m\u001b[38;5;132;01m{\u001b[39;00mtarget\u001b[38;5;241m.\u001b[39msize()\u001b[38;5;132;01m}\u001b[39;00m\u001b[38;5;124m) must be the same as input size (\u001b[39m\u001b[38;5;132;01m{\u001b[39;00m\u001b[38;5;28minput\u001b[39m\u001b[38;5;241m.\u001b[39msize()\u001b[38;5;132;01m}\u001b[39;00m\u001b[38;5;124m)\u001b[39m\u001b[38;5;124m\"\u001b[39m)\n\u001b[1;32m   3195\u001b[0m \u001b[38;5;28;01mreturn\u001b[39;00m torch\u001b[38;5;241m.\u001b[39mbinary_cross_entropy_with_logits(\u001b[38;5;28minput\u001b[39m, target, weight, pos_weight, reduction_enum)\n",
      "\u001b[0;31mValueError\u001b[0m: Target size (torch.Size([64])) must be the same as input size (torch.Size([64, 1]))"
     ]
    }
   ],
   "source": [
    "input_dim = 600  # Assuming input_dim is 600 after PCA\n",
    "batch_size=32\n",
    "model = DrugClassifier(input_dim)\n",
    "criterion = nn.BCEWithLogitsLoss()  # Binary Cross Entropy Loss for binary classification\n",
    "optimizer = optim.Adam(model.parameters(), lr=0.001)  # Adam optimizer with learning rate 0.001num_epochs = 10  # Set your desired number of epochs\n",
    "# Define batch size for training\n",
    "batch_size = 64  # Choose your desired batch size\n",
    "\n",
    "train_loader = torch.utils.data.DataLoader(train_dataset, batch_size=batch_size, shuffle=True)\n",
    "train_model(model, train_loader, criterion, optimizer)"
   ]
  },
  {
   "cell_type": "markdown",
   "metadata": {},
   "source": [
    "### 2.6 Testing\n",
    "After training, test your model on test dataset and compute performance metrics. "
   ]
  },
  {
   "cell_type": "code",
   "execution_count": null,
   "metadata": {},
   "outputs": [],
   "source": [
    "# Step 4: Evaluation\n",
    "def evaluate_model(model, test_loader):\n",
    "    model.eval()\n",
    "    correct = 0\n",
    "    total = 0\n",
    "    with torch.no_grad():\n",
    "        for data, labels in test_loader:\n",
    "            outputs = model(data)\n",
    "            predicted = (outputs >= 0.0).float()  # Threshold for binary classification\n",
    "            total += labels.size(0)\n",
    "            correct += (predicted == labels).sum().item()\n",
    "    accuracy = correct / total\n",
    "    return accuracy\n",
    "\n",
    "# Define input dimension based on the number of features/attributes in your dataset\n",
    "input_dim = 100000  # Adjust this based on your dataset\n",
    "\n",
    "# Create an instance of the model\n",
    "model = DrugClassifier(input_dim)"
   ]
  },
  {
   "cell_type": "markdown",
   "metadata": {},
   "source": [
    "Show confusion matrix of your model."
   ]
  },
  {
   "cell_type": "code",
   "execution_count": null,
   "metadata": {},
   "outputs": [],
   "source": [
    "# Print your confusion matrix here."
   ]
  }
 ],
 "metadata": {
  "kernelspec": {
   "display_name": "Python 3 (ipykernel)",
   "language": "python",
   "name": "python3"
  },
  "language_info": {
   "codemirror_mode": {
    "name": "ipython",
    "version": 3
   },
   "file_extension": ".py",
   "mimetype": "text/x-python",
   "name": "python",
   "nbconvert_exporter": "python",
   "pygments_lexer": "ipython3",
   "version": "3.11.4"
  }
 },
 "nbformat": 4,
 "nbformat_minor": 4
}
