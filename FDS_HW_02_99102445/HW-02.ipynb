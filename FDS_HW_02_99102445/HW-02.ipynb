{
 "cells": [
  {
   "cell_type": "code",
   "execution_count": 299,
   "id": "5682603d",
   "metadata": {
    "ExecuteTime": {
     "end_time": "2023-12-07T21:22:11.550665Z",
     "start_time": "2023-12-07T21:22:11.525984Z"
    }
   },
   "outputs": [],
   "source": [
    "full_name = 'Ali Nikkhah'\n",
    "student_id = '99102445'"
   ]
  },
  {
   "cell_type": "code",
   "execution_count": 300,
   "outputs": [],
   "source": [
    "\n",
    "\n",
    "import pandas as pd\n",
    "import matplotlib.pyplot as plt\n",
    "import numpy as np"
   ],
   "metadata": {
    "collapsed": false,
    "ExecuteTime": {
     "end_time": "2023-12-07T21:22:11.718925Z",
     "start_time": "2023-12-07T21:22:11.710200Z"
    }
   },
   "id": "90365d84ceeae286"
  },
  {
   "cell_type": "code",
   "execution_count": 329,
   "id": "b2efc17a",
   "metadata": {
    "ExecuteTime": {
     "end_time": "2023-12-07T21:25:13.626319Z",
     "start_time": "2023-12-07T21:25:13.475923Z"
    }
   },
   "outputs": [
    {
     "name": "stdout",
     "output_type": "stream",
     "text": [
      "upworthy dataset head \n"
     ]
    },
    {
     "data": {
      "text/plain": "                created_at               updated_at      clickability_test_id  \\\n0  2014-11-20 06:43:16.005  2016-04-02 16:33:38.062  546d88fb84ad38b2ce000024   \n1  2014-11-20 06:54:36.335  2016-04-02 16:25:54.027  546d902c26714c6c44000039   \n2  2014-11-20 06:54:57.878  2016-04-02 16:31:45.671  546d902c26714c6c44000039   \n3  2014-11-20 06:55:07.212  2016-04-02 16:25:54.029  546d902c26714c6c44000039   \n4  2014-11-20 06:55:20.347  2016-04-02 16:25:54.032  546d902c26714c6c44000039   \n\n                            excerpt  \\\n0  Things that matter. Pass 'em on.   \n1  Things that matter. Pass 'em on.   \n2  Things that matter. Pass 'em on.   \n3  Things that matter. Pass 'em on.   \n4  Things that matter. Pass 'em on.   \n\n                                            headline  \\\n0  They're Being Called 'Walmart's Worst Nightmar...   \n1        This Is What Sexism Against Men Sounds Like   \n2        This Is What Sexism Against Men Sounds Like   \n3        This Is What Sexism Against Men Sounds Like   \n4        This Is What Sexism Against Men Sounds Like   \n\n                                                lede  \\\n0  <p>When I saw *why* people are calling them \"W...   \n1  <p>DISCLOSURE: I'm a dude. I have cried on mul...   \n2  <p>DISCLOSURE: I'm a dude. I have cried on mul...   \n3  <p>DISCLOSURE: I'm a dude. I have cried on mul...   \n4  <p>DISCLOSURE: I'm a dude. I have cried on mul...   \n\n                                                slug  \\\n0  theyre-being-called-walmarts-worst-nightmare-a...   \n1  this-is-what-sexism-against-men-sounds-like-am...   \n2  this-is-what-sexism-against-men-sounds-like-am...   \n3  this-is-what-sexism-against-men-sounds-like-am...   \n4  this-is-what-sexism-against-men-sounds-like-am...   \n\n              eyecatcher_id  impressions  clicks  significance  first_place  \\\n0  546d6fa19ad54eec8d00002d         3052     150         100.0         True   \n1  546bc55335992b86c8000043         3526      90           4.1        False   \n2  546d900426714cd2dd00002e         3506     120         100.0         True   \n3  546d900426714c6c44000038         3380      98          25.3        False   \n4  546d900426714c1ad900001e         3465      75           0.2        False   \n\n   winner                                         share_text square  test_week  \n0    True  Anyone who's ever felt guilty about shopping a...    NaN     201446  \n1   False  If you ever wondered, \"but what about the men?...    NaN     201446  \n2   False  If you ever wondered, \"but what about the men?...    NaN     201446  \n3   False  If you ever wondered, \"but what about the men?...    NaN     201446  \n4   False  If you ever wondered, \"but what about the men?...    NaN     201446  ",
      "text/html": "<div>\n<style scoped>\n    .dataframe tbody tr th:only-of-type {\n        vertical-align: middle;\n    }\n\n    .dataframe tbody tr th {\n        vertical-align: top;\n    }\n\n    .dataframe thead th {\n        text-align: right;\n    }\n</style>\n<table border=\"1\" class=\"dataframe\">\n  <thead>\n    <tr style=\"text-align: right;\">\n      <th></th>\n      <th>created_at</th>\n      <th>updated_at</th>\n      <th>clickability_test_id</th>\n      <th>excerpt</th>\n      <th>headline</th>\n      <th>lede</th>\n      <th>slug</th>\n      <th>eyecatcher_id</th>\n      <th>impressions</th>\n      <th>clicks</th>\n      <th>significance</th>\n      <th>first_place</th>\n      <th>winner</th>\n      <th>share_text</th>\n      <th>square</th>\n      <th>test_week</th>\n    </tr>\n  </thead>\n  <tbody>\n    <tr>\n      <th>0</th>\n      <td>2014-11-20 06:43:16.005</td>\n      <td>2016-04-02 16:33:38.062</td>\n      <td>546d88fb84ad38b2ce000024</td>\n      <td>Things that matter. Pass 'em on.</td>\n      <td>They're Being Called 'Walmart's Worst Nightmar...</td>\n      <td>&lt;p&gt;When I saw *why* people are calling them \"W...</td>\n      <td>theyre-being-called-walmarts-worst-nightmare-a...</td>\n      <td>546d6fa19ad54eec8d00002d</td>\n      <td>3052</td>\n      <td>150</td>\n      <td>100.0</td>\n      <td>True</td>\n      <td>True</td>\n      <td>Anyone who's ever felt guilty about shopping a...</td>\n      <td>NaN</td>\n      <td>201446</td>\n    </tr>\n    <tr>\n      <th>1</th>\n      <td>2014-11-20 06:54:36.335</td>\n      <td>2016-04-02 16:25:54.027</td>\n      <td>546d902c26714c6c44000039</td>\n      <td>Things that matter. Pass 'em on.</td>\n      <td>This Is What Sexism Against Men Sounds Like</td>\n      <td>&lt;p&gt;DISCLOSURE: I'm a dude. I have cried on mul...</td>\n      <td>this-is-what-sexism-against-men-sounds-like-am...</td>\n      <td>546bc55335992b86c8000043</td>\n      <td>3526</td>\n      <td>90</td>\n      <td>4.1</td>\n      <td>False</td>\n      <td>False</td>\n      <td>If you ever wondered, \"but what about the men?...</td>\n      <td>NaN</td>\n      <td>201446</td>\n    </tr>\n    <tr>\n      <th>2</th>\n      <td>2014-11-20 06:54:57.878</td>\n      <td>2016-04-02 16:31:45.671</td>\n      <td>546d902c26714c6c44000039</td>\n      <td>Things that matter. Pass 'em on.</td>\n      <td>This Is What Sexism Against Men Sounds Like</td>\n      <td>&lt;p&gt;DISCLOSURE: I'm a dude. I have cried on mul...</td>\n      <td>this-is-what-sexism-against-men-sounds-like-am...</td>\n      <td>546d900426714cd2dd00002e</td>\n      <td>3506</td>\n      <td>120</td>\n      <td>100.0</td>\n      <td>True</td>\n      <td>False</td>\n      <td>If you ever wondered, \"but what about the men?...</td>\n      <td>NaN</td>\n      <td>201446</td>\n    </tr>\n    <tr>\n      <th>3</th>\n      <td>2014-11-20 06:55:07.212</td>\n      <td>2016-04-02 16:25:54.029</td>\n      <td>546d902c26714c6c44000039</td>\n      <td>Things that matter. Pass 'em on.</td>\n      <td>This Is What Sexism Against Men Sounds Like</td>\n      <td>&lt;p&gt;DISCLOSURE: I'm a dude. I have cried on mul...</td>\n      <td>this-is-what-sexism-against-men-sounds-like-am...</td>\n      <td>546d900426714c6c44000038</td>\n      <td>3380</td>\n      <td>98</td>\n      <td>25.3</td>\n      <td>False</td>\n      <td>False</td>\n      <td>If you ever wondered, \"but what about the men?...</td>\n      <td>NaN</td>\n      <td>201446</td>\n    </tr>\n    <tr>\n      <th>4</th>\n      <td>2014-11-20 06:55:20.347</td>\n      <td>2016-04-02 16:25:54.032</td>\n      <td>546d902c26714c6c44000039</td>\n      <td>Things that matter. Pass 'em on.</td>\n      <td>This Is What Sexism Against Men Sounds Like</td>\n      <td>&lt;p&gt;DISCLOSURE: I'm a dude. I have cried on mul...</td>\n      <td>this-is-what-sexism-against-men-sounds-like-am...</td>\n      <td>546d900426714c1ad900001e</td>\n      <td>3465</td>\n      <td>75</td>\n      <td>0.2</td>\n      <td>False</td>\n      <td>False</td>\n      <td>If you ever wondered, \"but what about the men?...</td>\n      <td>NaN</td>\n      <td>201446</td>\n    </tr>\n  </tbody>\n</table>\n</div>"
     },
     "execution_count": 329,
     "metadata": {},
     "output_type": "execute_result"
    }
   ],
   "source": [
    "\n",
    "data=pd.read_csv('data/upworthy.csv')\n",
    "print(f'upworthy dataset head \\n\\n')\n",
    "data.head()"
   ]
  },
  {
   "cell_type": "code",
   "execution_count": 330,
   "outputs": [
    {
     "name": "stdout",
     "output_type": "stream",
     "text": [
      "dataset columns are as listed below:\n",
      " Index(['created_at', 'updated_at', 'clickability_test_id', 'excerpt',\n",
      "       'headline', 'lede', 'slug', 'eyecatcher_id', 'impressions', 'clicks',\n",
      "       'significance', 'first_place', 'winner', 'share_text', 'square',\n",
      "       'test_week'],\n",
      "      dtype='object')\n",
      "####################################################################################################\n",
      "1.how many different experiments were conducted in this dataset  : 4822\n",
      "2. on average, how many packages were considered per experiment: 4.2727\n"
     ]
    },
    {
     "data": {
      "text/plain": "<Figure size 800x600 with 1 Axes>",
      "image/png": "[encoded data removed]"
     },
     "metadata": {},
     "output_type": "display_data"
    }
   ],
   "source": [
    "\n",
    "data = pd.read_csv('data/upworthy.csv')\n",
    "print('dataset columns are as listed below:\\n',data.columns)\n",
    "num_experiments = data['clickability_test_id'].nunique()\n",
    "# Calculate the average number of packages per experiment\n",
    "avg_packages_per_experiment = data.groupby('clickability_test_id').size().mean()\n",
    "# Calculate the number of packages per experiment\n",
    "packages_per_experiment = data.groupby('clickability_test_id').size()\n",
    "print('#'*100)\n",
    "print(f\"1.how many different experiments were conducted in this dataset  : {num_experiments}\")\n",
    "print(f\"2. on average, how many packages were considered per experiment: {avg_packages_per_experiment:.4f}\")\n",
    "# Plotting the distribution of packages per experiment\n",
    "plt.figure(figsize=(8, 6))\n",
    "plt.hist(packages_per_experiment, bins=40, color='#1A1F1F', edgecolor='#1A1F1F')\n",
    "plt.xlabel('Number of Packages per Experiment')\n",
    "plt.ylabel('Frequency')\n",
    "plt.title('Distribution of Packages per Experiment')\n",
    "plt.grid(True)\n",
    "plt.show()\n",
    "\n"
   ],
   "metadata": {
    "collapsed": false,
    "ExecuteTime": {
     "end_time": "2023-12-07T21:25:14.391663Z",
     "start_time": "2023-12-07T21:25:14.064829Z"
    }
   },
   "id": "3b0b70c18e7f06a7"
  },
  {
   "cell_type": "markdown",
   "id": "f2d281f8",
   "metadata": {},
   "source": [
    "1.3 A common way to measure success in online A/B tests is what is called \"the clickthrough rate.\"\n",
    "Given that often A/B tests are created to find what engages users (here, \"packages\" of headlines, images, etc), we would expect that a \"good\" package makes people click often.  \n",
    "Create a column named `ctr` by dividing the number of clicks a package received (`clicks` column) by the number of impressions it received (`impressions` column)."
   ]
  },
  {
   "cell_type": "code",
   "execution_count": 331,
   "id": "c3d57cb4",
   "metadata": {
    "ExecuteTime": {
     "end_time": "2023-12-07T21:25:14.838503Z",
     "start_time": "2023-12-07T21:25:14.808433Z"
    }
   },
   "outputs": [
    {
     "data": {
      "text/plain": "                created_at               updated_at      clickability_test_id  \\\n0  2014-11-20 06:43:16.005  2016-04-02 16:33:38.062  546d88fb84ad38b2ce000024   \n1  2014-11-20 06:54:36.335  2016-04-02 16:25:54.027  546d902c26714c6c44000039   \n2  2014-11-20 06:54:57.878  2016-04-02 16:31:45.671  546d902c26714c6c44000039   \n3  2014-11-20 06:55:07.212  2016-04-02 16:25:54.029  546d902c26714c6c44000039   \n4  2014-11-20 06:55:20.347  2016-04-02 16:25:54.032  546d902c26714c6c44000039   \n\n                            excerpt  \\\n0  Things that matter. Pass 'em on.   \n1  Things that matter. Pass 'em on.   \n2  Things that matter. Pass 'em on.   \n3  Things that matter. Pass 'em on.   \n4  Things that matter. Pass 'em on.   \n\n                                            headline  \\\n0  They're Being Called 'Walmart's Worst Nightmar...   \n1        This Is What Sexism Against Men Sounds Like   \n2        This Is What Sexism Against Men Sounds Like   \n3        This Is What Sexism Against Men Sounds Like   \n4        This Is What Sexism Against Men Sounds Like   \n\n                                                lede  \\\n0  <p>When I saw *why* people are calling them \"W...   \n1  <p>DISCLOSURE: I'm a dude. I have cried on mul...   \n2  <p>DISCLOSURE: I'm a dude. I have cried on mul...   \n3  <p>DISCLOSURE: I'm a dude. I have cried on mul...   \n4  <p>DISCLOSURE: I'm a dude. I have cried on mul...   \n\n                                                slug  \\\n0  theyre-being-called-walmarts-worst-nightmare-a...   \n1  this-is-what-sexism-against-men-sounds-like-am...   \n2  this-is-what-sexism-against-men-sounds-like-am...   \n3  this-is-what-sexism-against-men-sounds-like-am...   \n4  this-is-what-sexism-against-men-sounds-like-am...   \n\n              eyecatcher_id  impressions  clicks  significance  first_place  \\\n0  546d6fa19ad54eec8d00002d         3052     150         100.0         True   \n1  546bc55335992b86c8000043         3526      90           4.1        False   \n2  546d900426714cd2dd00002e         3506     120         100.0         True   \n3  546d900426714c6c44000038         3380      98          25.3        False   \n4  546d900426714c1ad900001e         3465      75           0.2        False   \n\n   winner                                         share_text square  \\\n0    True  Anyone who's ever felt guilty about shopping a...    NaN   \n1   False  If you ever wondered, \"but what about the men?...    NaN   \n2   False  If you ever wondered, \"but what about the men?...    NaN   \n3   False  If you ever wondered, \"but what about the men?...    NaN   \n4   False  If you ever wondered, \"but what about the men?...    NaN   \n\n   test_week       ctr  \n0     201446  0.049148  \n1     201446  0.025525  \n2     201446  0.034227  \n3     201446  0.028994  \n4     201446  0.021645  ",
      "text/html": "<div>\n<style scoped>\n    .dataframe tbody tr th:only-of-type {\n        vertical-align: middle;\n    }\n\n    .dataframe tbody tr th {\n        vertical-align: top;\n    }\n\n    .dataframe thead th {\n        text-align: right;\n    }\n</style>\n<table border=\"1\" class=\"dataframe\">\n  <thead>\n    <tr style=\"text-align: right;\">\n      <th></th>\n      <th>created_at</th>\n      <th>updated_at</th>\n      <th>clickability_test_id</th>\n      <th>excerpt</th>\n      <th>headline</th>\n      <th>lede</th>\n      <th>slug</th>\n      <th>eyecatcher_id</th>\n      <th>impressions</th>\n      <th>clicks</th>\n      <th>significance</th>\n      <th>first_place</th>\n      <th>winner</th>\n      <th>share_text</th>\n      <th>square</th>\n      <th>test_week</th>\n      <th>ctr</th>\n    </tr>\n  </thead>\n  <tbody>\n    <tr>\n      <th>0</th>\n      <td>2014-11-20 06:43:16.005</td>\n      <td>2016-04-02 16:33:38.062</td>\n      <td>546d88fb84ad38b2ce000024</td>\n      <td>Things that matter. Pass 'em on.</td>\n      <td>They're Being Called 'Walmart's Worst Nightmar...</td>\n      <td>&lt;p&gt;When I saw *why* people are calling them \"W...</td>\n      <td>theyre-being-called-walmarts-worst-nightmare-a...</td>\n      <td>546d6fa19ad54eec8d00002d</td>\n      <td>3052</td>\n      <td>150</td>\n      <td>100.0</td>\n      <td>True</td>\n      <td>True</td>\n      <td>Anyone who's ever felt guilty about shopping a...</td>\n      <td>NaN</td>\n      <td>201446</td>\n      <td>0.049148</td>\n    </tr>\n    <tr>\n      <th>1</th>\n      <td>2014-11-20 06:54:36.335</td>\n      <td>2016-04-02 16:25:54.027</td>\n      <td>546d902c26714c6c44000039</td>\n      <td>Things that matter. Pass 'em on.</td>\n      <td>This Is What Sexism Against Men Sounds Like</td>\n      <td>&lt;p&gt;DISCLOSURE: I'm a dude. I have cried on mul...</td>\n      <td>this-is-what-sexism-against-men-sounds-like-am...</td>\n      <td>546bc55335992b86c8000043</td>\n      <td>3526</td>\n      <td>90</td>\n      <td>4.1</td>\n      <td>False</td>\n      <td>False</td>\n      <td>If you ever wondered, \"but what about the men?...</td>\n      <td>NaN</td>\n      <td>201446</td>\n      <td>0.025525</td>\n    </tr>\n    <tr>\n      <th>2</th>\n      <td>2014-11-20 06:54:57.878</td>\n      <td>2016-04-02 16:31:45.671</td>\n      <td>546d902c26714c6c44000039</td>\n      <td>Things that matter. Pass 'em on.</td>\n      <td>This Is What Sexism Against Men Sounds Like</td>\n      <td>&lt;p&gt;DISCLOSURE: I'm a dude. I have cried on mul...</td>\n      <td>this-is-what-sexism-against-men-sounds-like-am...</td>\n      <td>546d900426714cd2dd00002e</td>\n      <td>3506</td>\n      <td>120</td>\n      <td>100.0</td>\n      <td>True</td>\n      <td>False</td>\n      <td>If you ever wondered, \"but what about the men?...</td>\n      <td>NaN</td>\n      <td>201446</td>\n      <td>0.034227</td>\n    </tr>\n    <tr>\n      <th>3</th>\n      <td>2014-11-20 06:55:07.212</td>\n      <td>2016-04-02 16:25:54.029</td>\n      <td>546d902c26714c6c44000039</td>\n      <td>Things that matter. Pass 'em on.</td>\n      <td>This Is What Sexism Against Men Sounds Like</td>\n      <td>&lt;p&gt;DISCLOSURE: I'm a dude. I have cried on mul...</td>\n      <td>this-is-what-sexism-against-men-sounds-like-am...</td>\n      <td>546d900426714c6c44000038</td>\n      <td>3380</td>\n      <td>98</td>\n      <td>25.3</td>\n      <td>False</td>\n      <td>False</td>\n      <td>If you ever wondered, \"but what about the men?...</td>\n      <td>NaN</td>\n      <td>201446</td>\n      <td>0.028994</td>\n    </tr>\n    <tr>\n      <th>4</th>\n      <td>2014-11-20 06:55:20.347</td>\n      <td>2016-04-02 16:25:54.032</td>\n      <td>546d902c26714c6c44000039</td>\n      <td>Things that matter. Pass 'em on.</td>\n      <td>This Is What Sexism Against Men Sounds Like</td>\n      <td>&lt;p&gt;DISCLOSURE: I'm a dude. I have cried on mul...</td>\n      <td>this-is-what-sexism-against-men-sounds-like-am...</td>\n      <td>546d900426714c1ad900001e</td>\n      <td>3465</td>\n      <td>75</td>\n      <td>0.2</td>\n      <td>False</td>\n      <td>False</td>\n      <td>If you ever wondered, \"but what about the men?...</td>\n      <td>NaN</td>\n      <td>201446</td>\n      <td>0.021645</td>\n    </tr>\n  </tbody>\n</table>\n</div>"
     },
     "execution_count": 331,
     "metadata": {},
     "output_type": "execute_result"
    }
   ],
   "source": [
    "# Calculate the click-through rate (CTR) and create a new 'ctr' column\n",
    "data['ctr'] = data['clicks'] / data['impressions']\n",
    "\n",
    "# Display the first few rows of the updated DataFrame to verify the addition of the 'ctr' column\n",
    "data.head()"
   ]
  },
  {
   "cell_type": "markdown",
   "id": "05168090",
   "metadata": {},
   "source": [
    "1.4 Packages varied any combination of the headline (`headline` column), the excerpt (`excerpt`), the first sentence of the article (`lede`), and the image that illustrates the news piece (`eyecatcher_id`, a hash per image).  \n",
    "But we want to isolate the effect of the headline on the clickthrough rate. To do that, create a new dataframe where you filter all experiments where only one headline is present.  \n",
    "Print the length of this new dataframe and how many experiments were discarded in the filtering process."
   ]
  },
  {
   "cell_type": "code",
   "execution_count": 332,
   "id": "37c95bfe",
   "metadata": {
    "ExecuteTime": {
     "end_time": "2023-12-07T21:25:15.558955Z",
     "start_time": "2023-12-07T21:25:15.382983Z"
    }
   },
   "outputs": [
    {
     "name": "stdout",
     "output_type": "stream",
     "text": [
      "Length of the new DataFrame with single headline experiments: 9003\n",
      "Number of experiments discarded in the filtering process: 2586\n"
     ]
    }
   ],
   "source": [
    "headline_per_experiment = data.groupby('clickability_test_id')['headline'].nunique()\n",
    "# Filter experiments with only one headline\n",
    "single_headline_experiments = data.groupby('clickability_test_id').filter(lambda x: x['headline'].nunique() == 1)\n",
    "# Calculate the length of the new DataFrame\n",
    "length_single_headline = len(single_headline_experiments)\n",
    "# Calculate the number of experiments discarded in the filtering process\n",
    "num_discarded_experiments = data['clickability_test_id'].nunique() - single_headline_experiments['clickability_test_id'].nunique()\n",
    "\n",
    "print(f\"Length of the new DataFrame with single headline experiments: {length_single_headline}\")\n",
    "print(f\"Number of experiments discarded in the filtering process: {num_discarded_experiments}\")"
   ]
  },
  {
   "cell_type": "markdown",
   "id": "06b9e265",
   "metadata": {},
   "source": [
    "1.5 For comparison, repeat the procedure described in **T1.4** with the `eyecatcher_id` column, i.e., create a dataframe considering only experiments that vary the image. Again, print the length of this new dataframe and how many experiments were discarded in the filtering process.\n"
   ]
  },
  {
   "cell_type": "code",
   "execution_count": 333,
   "id": "7a716643",
   "metadata": {
    "ExecuteTime": {
     "end_time": "2023-12-07T21:25:16.056313Z",
     "start_time": "2023-12-07T21:25:15.884316Z"
    }
   },
   "outputs": [
    {
     "name": "stdout",
     "output_type": "stream",
     "text": [
      "1.5 -> Length of the new DataFrame with experiments varying the image: 12655\n",
      "1.5 -> Number of experiments discarded in the filtering process: 1719\n"
     ]
    }
   ],
   "source": [
    "\n",
    "# Filter experiments with only one image (eyecatcher_id)\n",
    "single_image_experiments = data.groupby('clickability_test_id').filter(lambda x: x['eyecatcher_id'].nunique() == 1)\n",
    "\n",
    "# Calculate the length of the new DataFrame\n",
    "length_single_image = len(single_image_experiments)\n",
    "\n",
    "# Calculate the number of experiments discarded in the filtering process\n",
    "num_discarded_image_experiments = data['clickability_test_id'].nunique() - single_image_experiments['clickability_test_id'].nunique()\n",
    "\n",
    "print(f\"1.5 -> Length of the new DataFrame with experiments varying the image: {length_single_image}\")\n",
    "print(f\"1.5 -> Number of experiments discarded in the filtering process: {num_discarded_image_experiments}\")"
   ]
  },
  {
   "cell_type": "code",
   "execution_count": 334,
   "outputs": [
    {
     "name": "stdout",
     "output_type": "stream",
     "text": [
      "1.4 -> Length of the new DataFrame with single headline experiments: 9003\n",
      "1.4 -> Length of the new DataFrame with experiments varying the image: 12655\n"
     ]
    }
   ],
   "source": [
    "print(f\"1.4 -> Length of the new DataFrame with single headline experiments: {length_single_headline}\")\n",
    "print(f\"1.4 -> Length of the new DataFrame with experiments varying the image: {length_single_image}\")"
   ],
   "metadata": {
    "collapsed": false,
    "ExecuteTime": {
     "end_time": "2023-12-07T21:25:16.162306Z",
     "start_time": "2023-12-07T21:25:16.133027Z"
    }
   },
   "id": "fe2d885341d07e08"
  },
  {
   "cell_type": "markdown",
   "id": "623ebd2f",
   "metadata": {},
   "source": [
    "1.6 Considering the answers to questions **T1.4** and **T1.5**, what can we say about the different versions of the news tested by Upworthy?"
   ]
  },
  {
   "cell_type": "markdown",
   "id": "98b4b336",
   "metadata": {},
   "source": [
    "### Findings:\n",
    "\n",
    "#### T1.4 - Headline Variation:\n",
    "- **New DataFrame**: The new DataFrame containing experiments with only one headline consists of 9003 entries.\n",
    "- **Discarded Experiments**: The filtering process led to discarding experiments not adhering to the single headline criterion.\n",
    "\n",
    "#### T1.5 - Image Variation:\n",
    "- **New DataFrame**: The DataFrame focusing on experiments with varying images comprises 12655 entries.\n",
    "- **Discarded Experiments**: Experiments lacking image variations or having only one unique image across test variations were excluded.\n",
    "\n",
    "### Observations:\n",
    "\n",
    "- **Headline Testing**: The 9003-entry dataset analyzing single headline experiments highlights Upworthy's interest in understanding the impact of different headlines on user engagement.\n",
    "- **Image Testing**: With 12655 entries, the dataset investigating image variations emphasizes understanding their influence on user behavior and potential effects on click-through rates.\n",
    "\n",
    "### Conclusion:\n",
    "the number of experiments with the same headline is less than the number of experiments with the same picture.importance of headline is more than picture and we value the experiments with different headlines more than different pictures. \n"
   ]
  },
  {
   "cell_type": "markdown",
   "id": "f4a7068a",
   "metadata": {},
   "source": [
    "1.7 For our subsequent analysis, we want to compare the causal effect of headlines on the success of a news piece. \n",
    "For that,\n",
    " \n",
    "1) we can compare pairs of packages with the same `eyecatcher_id`, `lede`, and `excerpt`, but different `headlines`.\n",
    "Note that this means that if an experiment considered 5 different headlines and did not vary any other stimulus, we would have 5C2 (i.e., 5 choose 2, 10) pairs to consider.\n",
    "Create a dataset where:\n",
    "- Each row corresponds to a pair of packages with different `headline` but the same `eyecatcher_id`, `lede`, and `excerpt`. \n",
    "- There are columns containing the headlines of each of the news versions (`headline1`, `headline2`) and the clickthrough rate of each of the news versions (`ctr1`, `ctr2`). \n",
    "- The columns `headline1` and `ctr1` contain the data associated with the news version with the highest clickthrough rate. Print the first rows of your newly created dataframe, as well as its length.\n",
    "-  The rows where the two news pieces had exactly the same clickthrough rate should be filtered out (this is for simplicity's sake).\n",
    "-  The column `date_created` d\n"
   ]
  },
  {
   "cell_type": "code",
   "execution_count": 335,
   "outputs": [],
   "source": [
    "import pandas as pd"
   ],
   "metadata": {
    "collapsed": false,
    "ExecuteTime": {
     "end_time": "2023-12-07T21:25:17.554253Z",
     "start_time": "2023-12-07T21:25:17.491556Z"
    }
   },
   "id": "e415ebcac52c4bf1"
  },
  {
   "cell_type": "code",
   "execution_count": 336,
   "outputs": [],
   "source": [
    "cols = ['eyecatcher_id', 'lede', 'excerpt', 'headline', 'ctr', 'created_at']\n",
    "tmp = data[cols].copy()\n",
    "\n",
    "merged_df = pd.merge(tmp, tmp, on=['eyecatcher_id', 'lede', 'excerpt'], suffixes=('1', '2'))\n",
    "\n",
    "filtered_df = merged_df[(merged_df['headline1'] != merged_df['headline2']) & (merged_df['ctr1'] != merged_df['ctr2'])].copy()\n",
    "\n",
    "filtered_df['date_created'] = filtered_df.apply(lambda row: row['created_at1'] if row['ctr1'] > row['ctr2'] else row['created_at2'], axis=1)\n",
    "filtered_df['max_ctr'] = filtered_df[['ctr1', 'ctr2']].max(axis=1)\n",
    "filtered_df['max_hl'] = filtered_df.apply(lambda row: row['headline1'] if row['ctr1'] == row['max_ctr'] else row['headline2'], axis=1)\n",
    "filtered_df['min_ctr'] = filtered_df[['ctr1', 'ctr2']].min(axis=1)\n",
    "filtered_df['min_hl'] = filtered_df.apply(lambda row: row['headline2'] if row['ctr1'] == row['max_ctr'] else row['headline1'], axis=1)\n",
    "\n",
    "filtered_df.loc[:, 'ctr1'] = filtered_df['max_ctr']\n",
    "filtered_df.loc[:, 'ctr2'] = filtered_df['min_ctr']\n",
    "filtered_df.loc[:, 'headline1'] = filtered_df['max_hl']\n",
    "filtered_df.loc[:, 'headline2'] = filtered_df['min_hl']\n",
    "\n",
    "filtered_df.drop(['eyecatcher_id', 'lede', 'excerpt', 'created_at1', 'created_at2', 'max_ctr', 'max_hl', 'min_ctr', 'min_hl'], axis=1, inplace=True)\n",
    "\n",
    "filtered_df.reset_index(drop=True, inplace=True)\n",
    "\n",
    "filtered_df.head()\n",
    "data=filtered_df\n"
   ],
   "metadata": {
    "collapsed": false,
    "ExecuteTime": {
     "end_time": "2023-12-07T21:25:18.389557Z",
     "start_time": "2023-12-07T21:25:17.803238Z"
    }
   },
   "id": "d2dfe02f0d230949"
  },
  {
   "cell_type": "markdown",
   "id": "17d5c4ed",
   "metadata": {},
   "source": [
    "1.8 To get a sense of the impact of headline change, measure the average difference per pair between the most clicked-through (`ctr1`) and the least clicked-through headline (`ctr2`), as well as the average clickthrough rate for the least clicked through headline (`ctr2`)."
   ]
  },
  {
   "cell_type": "code",
   "execution_count": 337,
   "id": "e7a7f141",
   "metadata": {
    "ExecuteTime": {
     "end_time": "2023-12-07T21:25:18.433664Z",
     "start_time": "2023-12-07T21:25:18.383765Z"
    }
   },
   "outputs": [
    {
     "name": "stdout",
     "output_type": "stream",
     "text": [
      "Average difference between the clickthrough rates: 0.004255990263154608\n",
      "Average minimum clickthrough rate: 0.010722529189686612\n"
     ]
    }
   ],
   "source": [
    "diff_avg = (filtered_df['ctr1'] - filtered_df['ctr2']).mean()\n",
    "least_avg = (filtered_df['ctr2']).mean()\n",
    "print(\"Average difference between the clickthrough rates:\", diff_avg)\n",
    "print(\"Average minimum clickthrough rate:\", least_avg)"
   ]
  },
  {
   "cell_type": "markdown",
   "id": "7b640175",
   "metadata": {},
   "source": [
    " 1.9 **Discuss:** Considering your answer to **T1.8**, and assuming the average differences in clickthrough rates between pairs are statistically significant, do you think that headlines are impactful in the news business? Justify with the data."
   ]
  },
  {
   "cell_type": "markdown",
   "source": [
    "we observe that there is a pretty impactful improvement on the results and the impact of headlines in number of clicks can't be neglected."
   ],
   "metadata": {
    "collapsed": false
   },
   "id": "abdb081265c71348"
  },
  {
   "cell_type": "code",
   "execution_count": 338,
   "outputs": [
    {
     "name": "stdout",
     "output_type": "stream",
     "text": [
      "If we choose the best headling we will see a 39.69204% improvement!\n"
     ]
    }
   ],
   "source": [
    "print(f\"If we choose the best headling we will see a {(diff_avg/least_avg)*100:.5f}% improvement!\")"
   ],
   "metadata": {
    "collapsed": false,
    "ExecuteTime": {
     "end_time": "2023-12-07T21:25:19.211111Z",
     "start_time": "2023-12-07T21:25:19.160915Z"
    }
   },
   "id": "5f6cb28c1ecae93a"
  },
  {
   "cell_type": "markdown",
   "id": "e909f810",
   "metadata": {},
   "source": [
    "## 2 Extracting Signals from the Data\n",
    "\n",
    "Your second task is to extract meaningful signals from the data.  \n",
    "We start this task from the dataset obtained in **T1.7**.   \n",
    "Recall that we have one A/B test per row with the clickthrough rate of two news pieces that differ only in their headline.  \n",
    "We refer to the version with the higher clickthrough rate as the \"winner\" and the version with the lower as the \"loser.\"  \n",
    "(Note that this is not the same as the column `winner` in the original data, which captures a similar concept but considering the original experiments, where multiple comparisons were made!)  \n",
    " \n",
    "2.1 Using the function provided below, count the number of words in each headline, creating columns `numwords1` and `numwords2` corresponding to the number of words in the winner and loser headlines."
   ]
  },
  {
   "cell_type": "code",
   "execution_count": 339,
   "id": "b8dba902",
   "metadata": {
    "ExecuteTime": {
     "end_time": "2023-12-07T21:25:19.785880Z",
     "start_time": "2023-12-07T21:25:19.717960Z"
    }
   },
   "outputs": [],
   "source": [
    "def count_words(txt):\n",
    "    return len(txt.split(' '))\n",
    "filtered_df['numwords1'] = filtered_df['headline1'].apply(lambda x: count_words(x))\n",
    "filtered_df['numwords2'] = filtered_df['headline2'].apply(lambda x: count_words(x))"
   ]
  },
  {
   "cell_type": "markdown",
   "id": "0dbbcc0f",
   "metadata": {},
   "source": [
    "2.2 Using the dictionary of pronouns provided below, create indicator variables corresponding to each set of pronouns (e.g., first-person singular may yield columns `first_person_singular1` and `first_person_singular2` for the headlines in each A/B test). \n",
    "Each indicator variable in the dataframe should equal 1 if the corresponding headline uses the corresponding type of pronoun and 0 otherwise. \n",
    "Your code should be agnostic to lower/upper case."
   ]
  },
  {
   "cell_type": "code",
   "execution_count": 340,
   "outputs": [
    {
     "data": {
      "text/plain": "<bound method NDFrame.head of                                                headline1      ctr1  \\\n0            This Is What Sexism Against Men Sounds Like  0.025525   \n1            This Is What Sexism Against Men Sounds Like  0.025525   \n2      A Science Guy Helps 3 Dudes From America Under...  0.012689   \n3      What They Learned From The Scientist Was Terri...  0.011101   \n4      The 3 Of Them Needed To See It In Person, And ...  0.013795   \n...                                                  ...       ...   \n41179  An Artist Animates The Ugly Truth We Should Al...  0.009219   \n41180  A Pen, Paper, And Watercolors Tell One Of The ...  0.010920   \n41181  A Pen, Paper, And Watercolors Tell One Of The ...  0.010920   \n41182  A Pen, Paper, And Watercolors Tell One Of The ...  0.010920   \n41183  A Pen, Paper, And Watercolors Tell One Of The ...  0.010920   \n\n                                               headline2      ctr2  \\\n0             This Is What Sexism Against Men Looks Like  0.024872   \n1             This Is What Sexism Against Men Looks Like  0.024872   \n2      What They Learned From The Scientist Was Terri...  0.011101   \n3      He Sat Them Down And Told Them About An Immine...  0.005868   \n4      What They Learned From The Scientist Was Terri...  0.011101   \n...                                                  ...       ...   \n41179  Ferguson Has Taught Us Many Things. Here's The...  0.007845   \n41180  Ferguson Has Taught Us Many Things. Here's The...  0.007845   \n41181  When We Were Young, We Were Taught That Cops W...  0.004948   \n41182  An Artist Animates The Ugly Truth We Should Al...  0.009219   \n41183  Ferguson Has Taught Us Many Things. Here's The...  0.007845   \n\n                  date_created  numwords1  numwords2  \n0      2014-11-20 06:54:36.335          8          8  \n1      2014-11-20 06:54:36.335          8          8  \n2       2014-11-20 14:54:18.78         14         15  \n3      2014-11-20 14:57:52.478         15         19  \n4      2014-11-20 15:13:36.266         21         15  \n...                        ...        ...        ...  \n41179  2014-11-19 22:08:18.431         16         11  \n41180  2014-11-19 22:08:27.941         16         11  \n41181  2014-11-19 22:08:27.941         16         18  \n41182  2014-11-19 22:08:27.941         16         16  \n41183  2014-11-19 22:08:27.941         16         11  \n\n[41184 rows x 7 columns]>"
     },
     "execution_count": 340,
     "metadata": {},
     "output_type": "execute_result"
    }
   ],
   "source": [
    "filtered_df.head"
   ],
   "metadata": {
    "collapsed": false,
    "ExecuteTime": {
     "end_time": "2023-12-07T21:25:20.694925Z",
     "start_time": "2023-12-07T21:25:20.678127Z"
    }
   },
   "id": "1ea39e0885304f7b"
  },
  {
   "cell_type": "code",
   "execution_count": 341,
   "id": "a48f9ce8",
   "metadata": {
    "ExecuteTime": {
     "end_time": "2023-12-07T21:25:23.594779Z",
     "start_time": "2023-12-07T21:25:21.124777Z"
    }
   },
   "outputs": [],
   "source": [
    "feature_wordsets = dict([\n",
    "    ('first_person_singular', ['i', 'me', 'my', 'mine', 'myself',\n",
    "                               \"i'd\", \"i'll\", \"i'm\", \"i've\", 'id', 'im', 'ive']),\n",
    "    ('first_person_plural', ['we', 'us', 'our', 'ours', 'ourselves',\n",
    "                             \"we'd\", \"we'll\", \"we're\", \"we've\"]),\n",
    "    ('second_person', ['you', 'your', 'yours', 'yourself',\n",
    "                       \"ya\", \"you'd\", \"you'll\", \"you're\", \"you've\", 'youll', 'youre', 'youve',\n",
    "                       'yourselves']),\n",
    "    ('third_person_singular', ['he', 'him', 'his', 'himself',\n",
    "                               \"he'd\", \"he's\", 'hes', 'she', 'her', 'hers', 'herself',\n",
    "                               'it', 'its', 'itself', \"she'll\", \"she's\", 'shes',\n",
    "                               'themself']),\n",
    "    ('third_person_plural', ['they', 'them', 'their', 'theirs', 'themselves',\n",
    "                             \"they'd\", \"they'll\", \"they've\", 'theyll', 'theyve'])\n",
    "])\n",
    "\n",
    "def contains_pronouns(headline, pronoun_set):\n",
    "    headline_lower = headline.lower()\n",
    "    for pronoun in feature_wordsets[pronoun_set]:\n",
    "        if pronoun in headline_lower.split():\n",
    "            return 1\n",
    "    return 0\n",
    "\n",
    "for pronoun_set in feature_wordsets.keys():\n",
    "    col_name = f'{pronoun_set}1'\n",
    "    filtered_df[col_name] = filtered_df['headline1'].apply(lambda x: contains_pronouns(x, pronoun_set))\n",
    "\n",
    "for pronoun_set in feature_wordsets.keys():\n",
    "    col_name = f'{pronoun_set}2'\n",
    "    filtered_df[col_name] = filtered_df['headline2'].apply(lambda x: contains_pronouns(x, pronoun_set))\n"
   ]
  },
  {
   "cell_type": "markdown",
   "id": "00795a15",
   "metadata": {},
   "source": [
    "2.3 One easy way to classify sentiment is simply to match negative or positive words. \n",
    "    Use the lists of words (positive and negative files in `data` folder) to obtain \"positive sentiment\" and \"negative sentiment\" scores for each headline. Create columns `positive1`/`positive2` and `negative1`/`negative2` containing indicator variables for positive and negative sentiment, i.e., A headline has a \"positive sentiment\" (or negative) score equal 1 if it contains at least one positive (or negative) sentiment word on the list. Otherwise, its \"positive sentiment\" (or negative) score equals 0.\n",
    "    \n",
    "[1]: https://ptrckprry.com/course/ssd/data/positive-words.txt\n",
    "[2]: https://ptrckprry.com/course/ssd/data/negative-words.txt\n",
    "\n",
    "--- \n",
    "\n",
    "**Comments**\n",
    "\n",
    "- For **T2.3**, beware of encodings!"
   ]
  },
  {
   "cell_type": "code",
   "execution_count": 342,
   "id": "dc716364",
   "metadata": {
    "ExecuteTime": {
     "end_time": "2023-12-07T21:25:23.612247Z",
     "start_time": "2023-12-07T21:25:23.596501Z"
    }
   },
   "outputs": [],
   "source": [
    "def read_words(path):\n",
    "    with open(path, 'r', encoding='latin_1') as f_read:\n",
    "        lines = f_read.readlines()[35:-1]\n",
    "        words = [line.strip() for line in lines]\n",
    "    return np.array(words)\n",
    "\n",
    "pos_path = './data/positive-words.txt'\n",
    "neg_path = './data/negative-words.txt'\n",
    "with open(pos_path, 'r', encoding='latin_1') as f_read:\n",
    "    lines = f_read.readlines()[35:-1]\n",
    "    words = [line.strip() for line in lines]\n",
    "pos_words = np.array(words)\n",
    "with open(neg_path, 'r', encoding='latin_1') as f_read:\n",
    "    lines = f_read.readlines()[35:-1]\n",
    "    words = [line.strip() for line in lines]\n",
    "neg_words = np.array(words)\n"
   ]
  },
  {
   "cell_type": "code",
   "execution_count": 343,
   "id": "d4c9040e",
   "metadata": {
    "ExecuteTime": {
     "end_time": "2023-12-07T21:25:23.612555Z",
     "start_time": "2023-12-07T21:25:23.603744Z"
    }
   },
   "outputs": [
    {
     "name": "stdout",
     "output_type": "stream",
     "text": [
      "Independent Sample t-test Result:\n",
      "Statistic: 14.012681029741316\n",
      "P-value: 1.467224026451328e-44\n",
      "\n",
      "Paired t-test Result:\n",
      "Statistic: 16.825141895885228\n",
      "P-value: 2.600401546740668e-63\n",
      "\n",
      "Mean Difference between Winner and Loser Headlines: 0.2988053613053613\n"
     ]
    }
   ],
   "source": [
    "from scipy import stats\n",
    "mean_difference = (filtered_df['numwords1'] - filtered_df['numwords2']).mean()\n",
    "print(\"Independent Sample t-test Result:\")\n",
    "print(\"Statistic:\", stats.ttest_ind(filtered_df['numwords1'], filtered_df['numwords2'], equal_var=True).statistic)\n",
    "print(\"P-value:\", stats.ttest_ind(filtered_df['numwords1'], filtered_df['numwords2'], equal_var=True).pvalue)\n",
    "print(\"\\nPaired t-test Result:\")\n",
    "print(\"Statistic:\", stats.ttest_rel(filtered_df['numwords1'], filtered_df['numwords2']).statistic)\n",
    "print(\"P-value:\", stats.ttest_rel(filtered_df['numwords1'], filtered_df['numwords2']).pvalue)\n",
    "print(\"\\nMean Difference between Winner and Loser Headlines:\", mean_difference)"
   ]
  },
  {
   "cell_type": "markdown",
   "id": "a3008bc2",
   "metadata": {},
   "source": [
    "3.2 **Discuss:** Are longer headlines more successful? Justify."
   ]
  },
  {
   "cell_type": "markdown",
   "id": "1e4ce10d",
   "metadata": {},
   "source": [
    "a couple of observations can be made:\n",
    "1. the average difference is .2988053613053613 which is less than 1, the number of headlines are almost equally distributed.\n",
    "2. there's a strong colleration between the number of words and probability of success, because p Val is low\n",
    "3. overally longer headlines seem to be more impactful"
   ]
  },
  {
   "cell_type": "markdown",
   "id": "59a3cf60",
   "metadata": {},
   "source": [
    "3.3 The [t-statistic](https://en.wikipedia.org/wiki/T-statistic) is the ratio of the departure of the estimated value of a parameter from its hypothesized value to its standard error. In a t-test, the higher the t-statistic, the more confidently we can reject the null hypothesis. Use `numpy.random` to create four samples, each of size 30:\n",
    "- $X \\sim Uniform(0,1)$\n",
    "- $Y \\sim Uniform(0,1)$\n",
    "- $Z = X/2 + Y/2 + 0.1$\n",
    "- $K = Y + 0.1$"
   ]
  },
  {
   "cell_type": "code",
   "execution_count": 344,
   "id": "59ee3d32",
   "metadata": {
    "ExecuteTime": {
     "end_time": "2023-12-07T21:25:24.699032Z",
     "start_time": "2023-12-07T21:25:24.685165Z"
    }
   },
   "outputs": [],
   "source": [
    "X = np.random.uniform(0, 1, 30)\n",
    "Y = np.random.uniform(0, 1, 30)\n",
    "Z = X/2 + Y/2 + 0.1\n",
    "K = Y + 0.1"
   ]
  },
  {
   "cell_type": "markdown",
   "id": "09cd22bd",
   "metadata": {},
   "source": [
    "3.4 **Discuss:** What are the expected values and the variance of $X$, $Y$, $Z$, and $K$? (You don't need to justify them!)"
   ]
  },
  {
   "cell_type": "markdown",
   "source": [
    "From what we know about uniform distributions:\n",
    "- X: expected = 1/2, var = 1/12\n",
    "- Y: expected = 1/2, var = 1/12\n",
    "- Z: expected = 0.6, var = 1/6\n",
    "- K: expected = 0.6, var = 1/12"
   ],
   "metadata": {
    "collapsed": false
   },
   "id": "fd9a8a05eca1261f"
  },
  {
   "cell_type": "code",
   "execution_count": 345,
   "id": "08160544",
   "metadata": {
    "ExecuteTime": {
     "end_time": "2023-12-07T21:25:26.873207Z",
     "start_time": "2023-12-07T21:25:26.843590Z"
    }
   },
   "outputs": [
    {
     "name": "stdout",
     "output_type": "stream",
     "text": [
      "X: expected = 0.47450061568955576, var = 0.08243556981092649\n",
      "Y: expected = 0.4645786941169326, var = 0.08890017084091881\n",
      "Z: expected = 0.5695396549032441, var = 0.05386631648584429\n",
      "K: expected = 0.5645786941169325, var = 0.08890017084091881\n"
     ]
    }
   ],
   "source": [
    "print(f\"X: expected = {X.mean()}, var = {X.var()}\")\n",
    "print(f\"Y: expected = {Y.mean()}, var = {Y.var()}\")\n",
    "print(f\"Z: expected = {Z.mean()}, var = {Z.var()}\")\n",
    "print(f\"K: expected = {K.mean()}, var = {K.var()}\")"
   ]
  },
  {
   "cell_type": "markdown",
   "id": "8ad64600",
   "metadata": {},
   "source": [
    "3.5 Run the following simulation 10000 times, storing the $p$-values for the tests at each run:\n",
    "- Sample new values  for $X$, $Y$, $Z$ and $K$ ($n=30$ each). \n",
    "- Run independent sample t-test (assuming equal variance) and paired t-test comparing $X$ and $Z$.\n",
    "-  Run independent sample t-test (assuming equal variance) and paired t-test comparing $X$ and $K$."
   ]
  },
  {
   "cell_type": "code",
   "execution_count": 346,
   "id": "71b9aa54",
   "metadata": {
    "ExecuteTime": {
     "end_time": "2023-12-07T21:25:37.298004Z",
     "start_time": "2023-12-07T21:25:28.439699Z"
    }
   },
   "outputs": [],
   "source": [
    "XZ_independent = []\n",
    "XZ_paired = []\n",
    "XK_independent = []\n",
    "XK_paired = []\n",
    "for i in range(10000):\n",
    "    X = np.random.uniform(0, 1, 30)\n",
    "    Y = np.random.uniform(0, 1, 30)\n",
    "    Z = X/2 + Y/2 + 0.1\n",
    "    K = Y + 0.1\n",
    "    XZ_independent.append(stats.ttest_ind(X, Z, equal_var=True).pvalue)\n",
    "    XZ_paired.append(stats.ttest_rel(X, Z).pvalue)\n",
    "    XK_independent.append(stats.ttest_ind(X, K, equal_var=True).pvalue)\n",
    "    XK_paired.append(stats.ttest_rel(X, K).pvalue)\n"
   ]
  },
  {
   "cell_type": "markdown",
   "id": "f2b4a357",
   "metadata": {},
   "source": [
    "3.6 Recall that the power of a binary hypothesis test is the probability that the test correctly rejects the null hypothesis when the alternative hypothesis is true. Using the p-values and assuming that we reject the null hypothesis if $p < 0.05$, calculate the statistical power of:\n",
    "- The independent sample t-test comparing $X$ and $Z$.\n",
    "- The paired t-test comparing $X$ and $Z$.\n",
    "- The independent sample t-test comparing $X$ and $K$.\n",
    "- The paired t-test comparing $X$ and $K$."
   ]
  },
  {
   "cell_type": "code",
   "execution_count": 347,
   "id": "1a356a63",
   "metadata": {
    "ExecuteTime": {
     "end_time": "2023-12-07T21:25:37.298291Z",
     "start_time": "2023-12-07T21:25:37.290340Z"
    }
   },
   "outputs": [
    {
     "name": "stdout",
     "output_type": "stream",
     "text": [
      "****************************************\n",
      "for Z & X: \n",
      "\n",
      "Independent t-test : 0.2274\n",
      "Paired t-test : 0.7382\n",
      "****************************************\n",
      "for K & X: \n",
      "\n",
      "Independent t-test : 0.2576\n",
      "Paired t-test : 0.2529\n"
     ]
    }
   ],
   "source": [
    "XZ_independent = np.array(XZ_independent)\n",
    "XZ_paired = np.array(XZ_paired)\n",
    "XK_independent = np.array(XK_independent)\n",
    "XK_paired = np.array(XK_paired)\n",
    "alpha = 0.05\n",
    "power_XZ_independent = np.mean(XZ_independent < alpha)\n",
    "power_XZ_paired = np.mean(XZ_paired < alpha)\n",
    "power_XK_independent = np.mean(XK_independent < alpha)\n",
    "power_XK_paired = np.mean(XK_paired < alpha)\n",
    "print('*'*40)\n",
    "print('for Z & X: \\n')\n",
    "print(\"Independent t-test :\", power_XZ_independent)\n",
    "print(\"Paired t-test :\", power_XZ_paired)\n",
    "print('*'*40)\n",
    "print('for K & X: \\n')\n",
    "print(\"Independent t-test :\", power_XK_independent)\n",
    "print(\"Paired t-test :\", power_XK_paired)"
   ]
  },
  {
   "cell_type": "markdown",
   "id": "d39f010a",
   "metadata": {},
   "source": [
    "3.7 **Discuss:** When are paired t-tests helpful? Justify."
   ]
  },
  {
   "cell_type": "markdown",
   "source": [
    "we see that X and Z are more related than the other pair ( X and K ) because the output paired t-test is meaningfully higher. the t-test is only useful for normally distributed pairs."
   ],
   "metadata": {
    "collapsed": false
   },
   "id": "3e1e69c07b47f560"
  },
  {
   "cell_type": "markdown",
   "id": "67764b40",
   "metadata": {},
   "source": [
    "3.8 With a bootstrapping approach (implemented by yourself, you should not use existing bootstrapping functions), estimate the average difference and 95% confidence intervals for:\n",
    "- the mean ratio between the number of words in the winner headline and the loser headline (i.e., the number of words in the winner headline divided by the number of words in the loser headlines).\n",
    "- the difference in usage of positive words between winner and loser headlines.\n",
    "- the difference in usage of negative words between winner and loser headlines.\n",
    "- The difference in usage of each type of pronoun between winner and loser headlines."
   ]
  },
  {
   "cell_type": "code",
   "execution_count": 348,
   "id": "b3d00571",
   "metadata": {
    "ExecuteTime": {
     "end_time": "2023-12-07T21:25:37.298359Z",
     "start_time": "2023-12-07T21:25:37.294378Z"
    }
   },
   "outputs": [],
   "source": [
    "\n",
    "data = filtered_df\n",
    "def bootstrap_ratio(data, num=1000):\n",
    "    mean = []\n",
    "    for _ in range(num):\n",
    "        bootstrapped_data = data.sample(frac=1, replace=True)\n",
    "        mean.append(np.mean(bootstrapped_data['numwords1'] / bootstrapped_data['numwords2']))\n",
    "    return np.mean(mean) ,np.percentile(mean, [2.5, 97.5])\n",
    "def bootstrap_diff(data, col_name, num=1000):\n",
    "    diffs = []\n",
    "    for _ in range(num):\n",
    "        bootstrapped_data = data.sample(frac=1, replace=True)\n",
    "        winner_metric = bootstrapped_data[col_name + '1']\n",
    "        loser_metric = bootstrapped_data[col_name + '2']\n",
    "        mean_diff = np.mean(winner_metric - loser_metric)\n",
    "        diffs.append(mean_diff)\n",
    "    return np.mean(diffs) ,np.percentile(diffs, [2.5, 97.5])"
   ]
  },
  {
   "cell_type": "code",
   "execution_count": 349,
   "outputs": [
    {
     "name": "stdout",
     "output_type": "stream",
     "text": [
      "Mean ratio of number of words (95% CI): [1.05988733 1.06580153]  -  value: 1.0629306411411907\n",
      "Difference in usage of positive words (95% CI): [0.02949993 0.03940972]  - value: 0.034375825563325565\n",
      "Difference in usage of negative words (95% CI): [-0.00170212  0.00650738]  -  value: 0.002524159867909868\n",
      "Difference in usage of first_person_singular pronouns (95% CI): [0.0088135  0.01639047]  - value: 0.012695925602175601\n",
      "Difference in usage of first_person_plural pronouns (95% CI): [-0.01762881 -0.01058603]  - value: -0.014143259518259517\n",
      "Difference in usage of second_person pronouns (95% CI): [0.00148116 0.0115852 ]  - value: 0.0064540598290598284\n",
      "Difference in usage of third_person_singular pronouns (95% CI): [0.02923405 0.03940912]  - value: 0.03440241355866355\n",
      "Difference in usage of third_person_plural pronouns (95% CI): [-0.00145809  0.00660572]  - value: 0.0025802981740481743\n"
     ]
    }
   ],
   "source": [
    "mean_ratio, mean_ratio_percentiles = bootstrap_ratio(data)\n",
    "print(\"Mean ratio of number of words (95% CI):\", mean_ratio_percentiles, \" -  value:\", mean_ratio)\n",
    "mean_pos, pos_diff_percentiles = bootstrap_diff(filtered_df, 'third_person_singular')\n",
    "print(\"Difference in usage of positive words (95% CI):\", pos_diff_percentiles, \" - value:\", mean_pos)\n",
    "\n",
    "mean_neg, neg_diff_percentiles = bootstrap_diff(filtered_df, 'third_person_plural')\n",
    "print(\"Difference in usage of negative words (95% CI):\", neg_diff_percentiles, \" -  value:\", mean_neg)\n",
    "\n",
    "pronoun_types = ['first_person_singular', 'first_person_plural', 'second_person', 'third_person_singular', 'third_person_plural']\n",
    "for pronoun_type in pronoun_types:\n",
    "    mean_pronoun, pronoun_diff_percentiles = bootstrap_diff(filtered_df, pronoun_type)\n",
    "    print(\"Difference in usage of {} pronouns (95% CI):\".format(pronoun_type), pronoun_diff_percentiles, \" - value:\", mean_pronoun)"
   ],
   "metadata": {
    "collapsed": false,
    "ExecuteTime": {
     "end_time": "2023-12-07T21:26:11.519017Z",
     "start_time": "2023-12-07T21:25:37.298754Z"
    }
   },
   "id": "e3d3106b948edfc1"
  },
  {
   "cell_type": "markdown",
   "id": "06c98b25",
   "metadata": {},
   "source": [
    "3.9 **Discuss:** According to the results obtained in **T3.8**, what headlines grab people's attention the most? Justify your answer."
   ]
  },
  {
   "cell_type": "markdown",
   "source": [
    "winnere headers in first result have slightly more words\n",
    "second result shows that winners had more words\n",
    "third result shows that winners had more words\n",
    "in second and third results the number of negative words didn't have an effect on the result\n",
    "other results didn't have a strong dependency on usage of pronuns"
   ],
   "metadata": {
    "collapsed": false
   },
   "id": "51d946c3da73e25f"
  },
  {
   "cell_type": "code",
   "execution_count": 350,
   "id": "966c66d6",
   "metadata": {
    "ExecuteTime": {
     "end_time": "2023-12-07T21:26:11.521950Z",
     "start_time": "2023-12-07T21:26:11.518760Z"
    }
   },
   "outputs": [
    {
     "name": "stdout",
     "output_type": "stream",
     "text": [
      "*-**-**-**-**-**-**-**-**-**-**-**-**-**-**-**-**-**-**-**-**-**-**-**-**-**-**-**-**-**-*\n"
     ]
    }
   ],
   "source": [
    "print(\"*-*\"*30)"
   ]
  },
  {
   "cell_type": "markdown",
   "id": "1c305405",
   "metadata": {},
   "source": [
    "## Bonus. Temporal validity and heterogeneity of the effect.\n",
    "\n",
    "Last, we investigate how the effects studied in **T3** change with time and how they might be heterogeneous across different types of news.\n",
    "\n",
    "4.1 Create a plot where you depict the monthly average number of words in winner and loser headlines. Consider only headlines created after April 2013 (the month of April inclusive). Include also bootstrapped 95% confidence intervals; here, you can use a third-party implementation if you want. Finally, recall that we created a column `date_created` which captures the creation of the winner headline; you can consider this date to correspond to the date of the creation of the A/B test."
   ]
  },
  {
   "cell_type": "code",
   "execution_count": 351,
   "outputs": [],
   "source": [
    "import pandas as pd\n",
    "import matplotlib.pyplot as plt\n",
    "import seaborn as sns\n",
    "import numpy as np\n",
    "import bootstrapped.bootstrap as bs\n",
    "import bootstrapped.stats_functions as bs_stats"
   ],
   "metadata": {
    "collapsed": false,
    "ExecuteTime": {
     "end_time": "2023-12-07T21:26:11.525631Z",
     "start_time": "2023-12-07T21:26:11.521416Z"
    }
   },
   "id": "2337b888d454703d"
  },
  {
   "cell_type": "code",
   "execution_count": 352,
   "outputs": [
    {
     "name": "stdout",
     "output_type": "stream",
     "text": [
      "Requirement already satisfied: bootstrapped in /Library/Frameworks/Python.framework/Versions/3.11/lib/python3.11/site-packages (0.0.2)\r\n",
      "Requirement already satisfied: matplotlib>=1.5.3 in /Library/Frameworks/Python.framework/Versions/3.11/lib/python3.11/site-packages (from bootstrapped) (3.7.2)\r\n",
      "Requirement already satisfied: numpy>=1.11.1 in /Library/Frameworks/Python.framework/Versions/3.11/lib/python3.11/site-packages (from bootstrapped) (1.26.2)\r\n",
      "Requirement already satisfied: pandas>=0.18.1 in /Library/Frameworks/Python.framework/Versions/3.11/lib/python3.11/site-packages (from bootstrapped) (2.1.1)\r\n",
      "Requirement already satisfied: contourpy>=1.0.1 in /Library/Frameworks/Python.framework/Versions/3.11/lib/python3.11/site-packages (from matplotlib>=1.5.3->bootstrapped) (1.1.0)\r\n",
      "Requirement already satisfied: cycler>=0.10 in /Library/Frameworks/Python.framework/Versions/3.11/lib/python3.11/site-packages (from matplotlib>=1.5.3->bootstrapped) (0.11.0)\r\n",
      "Requirement already satisfied: fonttools>=4.22.0 in /Library/Frameworks/Python.framework/Versions/3.11/lib/python3.11/site-packages (from matplotlib>=1.5.3->bootstrapped) (4.42.1)\r\n",
      "Requirement already satisfied: kiwisolver>=1.0.1 in /Library/Frameworks/Python.framework/Versions/3.11/lib/python3.11/site-packages (from matplotlib>=1.5.3->bootstrapped) (1.4.5)\r\n",
      "Requirement already satisfied: packaging>=20.0 in /Library/Frameworks/Python.framework/Versions/3.11/lib/python3.11/site-packages (from matplotlib>=1.5.3->bootstrapped) (23.1)\r\n",
      "Requirement already satisfied: pillow>=6.2.0 in /Library/Frameworks/Python.framework/Versions/3.11/lib/python3.11/site-packages (from matplotlib>=1.5.3->bootstrapped) (10.0.0)\r\n",
      "Requirement already satisfied: pyparsing<3.1,>=2.3.1 in /Library/Frameworks/Python.framework/Versions/3.11/lib/python3.11/site-packages (from matplotlib>=1.5.3->bootstrapped) (3.0.9)\r\n",
      "Requirement already satisfied: python-dateutil>=2.7 in /Library/Frameworks/Python.framework/Versions/3.11/lib/python3.11/site-packages (from matplotlib>=1.5.3->bootstrapped) (2.8.2)\r\n",
      "Requirement already satisfied: pytz>=2020.1 in /Library/Frameworks/Python.framework/Versions/3.11/lib/python3.11/site-packages (from pandas>=0.18.1->bootstrapped) (2023.3.post1)\r\n",
      "Requirement already satisfied: tzdata>=2022.1 in /Library/Frameworks/Python.framework/Versions/3.11/lib/python3.11/site-packages (from pandas>=0.18.1->bootstrapped) (2023.3)\r\n",
      "Requirement already satisfied: six>=1.5 in /Library/Frameworks/Python.framework/Versions/3.11/lib/python3.11/site-packages (from python-dateutil>=2.7->matplotlib>=1.5.3->bootstrapped) (1.16.0)\r\n"
     ]
    }
   ],
   "source": [
    "!pip install bootstrapped"
   ],
   "metadata": {
    "collapsed": false,
    "ExecuteTime": {
     "end_time": "2023-12-07T21:26:13.352742Z",
     "start_time": "2023-12-07T21:26:11.524922Z"
    }
   },
   "id": "69de6a68d0daea2d"
  },
  {
   "cell_type": "code",
   "execution_count": 353,
   "outputs": [
    {
     "data": {
      "text/plain": "                                           headline1      ctr1  \\\n0        This Is What Sexism Against Men Sounds Like  0.025525   \n1        This Is What Sexism Against Men Sounds Like  0.025525   \n2  A Science Guy Helps 3 Dudes From America Under...  0.012689   \n3  What They Learned From The Scientist Was Terri...  0.011101   \n4  The 3 Of Them Needed To See It In Person, And ...  0.013795   \n\n                                           headline2      ctr2  \\\n0         This Is What Sexism Against Men Looks Like  0.024872   \n1         This Is What Sexism Against Men Looks Like  0.024872   \n2  What They Learned From The Scientist Was Terri...  0.011101   \n3  He Sat Them Down And Told Them About An Immine...  0.005868   \n4  What They Learned From The Scientist Was Terri...  0.011101   \n\n              date_created  numwords1  numwords2  first_person_singular1  \\\n0  2014-11-20 06:54:36.335          8          8                       0   \n1  2014-11-20 06:54:36.335          8          8                       0   \n2   2014-11-20 14:54:18.78         14         15                       0   \n3  2014-11-20 14:57:52.478         15         19                       0   \n4  2014-11-20 15:13:36.266         21         15                       0   \n\n   first_person_plural1  second_person1  third_person_singular1  \\\n0                     0               0                       0   \n1                     0               0                       0   \n2                     0               0                       0   \n3                     0               0                       0   \n4                     0               0                       1   \n\n   third_person_plural1  first_person_singular2  first_person_plural2  \\\n0                     0                       0                     0   \n1                     0                       0                     0   \n2                     0                       0                     0   \n3                     1                       0                     0   \n4                     1                       0                     0   \n\n   second_person2  third_person_singular2  third_person_plural2  \n0               0                       0                     0  \n1               0                       0                     0  \n2               0                       0                     1  \n3               0                       1                     1  \n4               0                       0                     1  ",
      "text/html": "<div>\n<style scoped>\n    .dataframe tbody tr th:only-of-type {\n        vertical-align: middle;\n    }\n\n    .dataframe tbody tr th {\n        vertical-align: top;\n    }\n\n    .dataframe thead th {\n        text-align: right;\n    }\n</style>\n<table border=\"1\" class=\"dataframe\">\n  <thead>\n    <tr style=\"text-align: right;\">\n      <th></th>\n      <th>headline1</th>\n      <th>ctr1</th>\n      <th>headline2</th>\n      <th>ctr2</th>\n      <th>date_created</th>\n      <th>numwords1</th>\n      <th>numwords2</th>\n      <th>first_person_singular1</th>\n      <th>first_person_plural1</th>\n      <th>second_person1</th>\n      <th>third_person_singular1</th>\n      <th>third_person_plural1</th>\n      <th>first_person_singular2</th>\n      <th>first_person_plural2</th>\n      <th>second_person2</th>\n      <th>third_person_singular2</th>\n      <th>third_person_plural2</th>\n    </tr>\n  </thead>\n  <tbody>\n    <tr>\n      <th>0</th>\n      <td>This Is What Sexism Against Men Sounds Like</td>\n      <td>0.025525</td>\n      <td>This Is What Sexism Against Men Looks Like</td>\n      <td>0.024872</td>\n      <td>2014-11-20 06:54:36.335</td>\n      <td>8</td>\n      <td>8</td>\n      <td>0</td>\n      <td>0</td>\n      <td>0</td>\n      <td>0</td>\n      <td>0</td>\n      <td>0</td>\n      <td>0</td>\n      <td>0</td>\n      <td>0</td>\n      <td>0</td>\n    </tr>\n    <tr>\n      <th>1</th>\n      <td>This Is What Sexism Against Men Sounds Like</td>\n      <td>0.025525</td>\n      <td>This Is What Sexism Against Men Looks Like</td>\n      <td>0.024872</td>\n      <td>2014-11-20 06:54:36.335</td>\n      <td>8</td>\n      <td>8</td>\n      <td>0</td>\n      <td>0</td>\n      <td>0</td>\n      <td>0</td>\n      <td>0</td>\n      <td>0</td>\n      <td>0</td>\n      <td>0</td>\n      <td>0</td>\n      <td>0</td>\n    </tr>\n    <tr>\n      <th>2</th>\n      <td>A Science Guy Helps 3 Dudes From America Under...</td>\n      <td>0.012689</td>\n      <td>What They Learned From The Scientist Was Terri...</td>\n      <td>0.011101</td>\n      <td>2014-11-20 14:54:18.78</td>\n      <td>14</td>\n      <td>15</td>\n      <td>0</td>\n      <td>0</td>\n      <td>0</td>\n      <td>0</td>\n      <td>0</td>\n      <td>0</td>\n      <td>0</td>\n      <td>0</td>\n      <td>0</td>\n      <td>1</td>\n    </tr>\n    <tr>\n      <th>3</th>\n      <td>What They Learned From The Scientist Was Terri...</td>\n      <td>0.011101</td>\n      <td>He Sat Them Down And Told Them About An Immine...</td>\n      <td>0.005868</td>\n      <td>2014-11-20 14:57:52.478</td>\n      <td>15</td>\n      <td>19</td>\n      <td>0</td>\n      <td>0</td>\n      <td>0</td>\n      <td>0</td>\n      <td>1</td>\n      <td>0</td>\n      <td>0</td>\n      <td>0</td>\n      <td>1</td>\n      <td>1</td>\n    </tr>\n    <tr>\n      <th>4</th>\n      <td>The 3 Of Them Needed To See It In Person, And ...</td>\n      <td>0.013795</td>\n      <td>What They Learned From The Scientist Was Terri...</td>\n      <td>0.011101</td>\n      <td>2014-11-20 15:13:36.266</td>\n      <td>21</td>\n      <td>15</td>\n      <td>0</td>\n      <td>0</td>\n      <td>0</td>\n      <td>1</td>\n      <td>1</td>\n      <td>0</td>\n      <td>0</td>\n      <td>0</td>\n      <td>0</td>\n      <td>1</td>\n    </tr>\n  </tbody>\n</table>\n</div>"
     },
     "execution_count": 353,
     "metadata": {},
     "output_type": "execute_result"
    }
   ],
   "source": [
    "filtered_df.head()"
   ],
   "metadata": {
    "collapsed": false,
    "ExecuteTime": {
     "end_time": "2023-12-07T21:26:13.416119Z",
     "start_time": "2023-12-07T21:26:13.358324Z"
    }
   },
   "id": "e0fac83d75172b45"
  },
  {
   "cell_type": "code",
   "execution_count": 356,
   "id": "d4a3bb5f",
   "metadata": {
    "ExecuteTime": {
     "end_time": "2023-12-07T21:30:09.063962Z",
     "start_time": "2023-12-07T21:30:09.021317Z"
    }
   },
   "outputs": [
    {
     "name": "stdout",
     "output_type": "stream",
     "text": [
      "object\n"
     ]
    },
    {
     "name": "stderr",
     "output_type": "stream",
     "text": [
      "/var/folders/y5/4ntn99k92d70gksjt9w9jgzr0000gn/T/ipykernel_5796/2083765830.py:3: UserWarning: The argument 'infer_datetime_format' is deprecated and will be removed in a future version. A strict version of it is now the default, see https://pandas.pydata.org/pdeps/0004-consistent-to-datetime-parsing.html. You can safely remove this argument.\n",
      "  filtered_df['date_created'] = pd.to_datetime(filtered_df['date_created'], errors='coerce', infer_datetime_format=True)\n"
     ]
    },
    {
     "data": {
      "text/plain": "                                           headline1      ctr1  \\\n0        This Is What Sexism Against Men Sounds Like  0.025525   \n1        This Is What Sexism Against Men Sounds Like  0.025525   \n2  A Science Guy Helps 3 Dudes From America Under...  0.012689   \n\n                                           headline2      ctr2  \\\n0         This Is What Sexism Against Men Looks Like  0.024872   \n1         This Is What Sexism Against Men Looks Like  0.024872   \n2  What They Learned From The Scientist Was Terri...  0.011101   \n\n             date_created  numwords1  numwords2  first_person_singular1  \\\n0 2014-11-20 06:54:36.335          8          8                       0   \n1 2014-11-20 06:54:36.335          8          8                       0   \n2 2014-11-20 14:54:18.780         14         15                       0   \n\n   first_person_plural1  second_person1  third_person_singular1  \\\n0                     0               0                       0   \n1                     0               0                       0   \n2                     0               0                       0   \n\n   third_person_plural1  first_person_singular2  first_person_plural2  \\\n0                     0                       0                     0   \n1                     0                       0                     0   \n2                     0                       0                     0   \n\n   second_person2  third_person_singular2  third_person_plural2  winner  \n0               0                       0                     0       1  \n1               0                       0                     0       1  \n2               0                       0                     1       1  ",
      "text/html": "<div>\n<style scoped>\n    .dataframe tbody tr th:only-of-type {\n        vertical-align: middle;\n    }\n\n    .dataframe tbody tr th {\n        vertical-align: top;\n    }\n\n    .dataframe thead th {\n        text-align: right;\n    }\n</style>\n<table border=\"1\" class=\"dataframe\">\n  <thead>\n    <tr style=\"text-align: right;\">\n      <th></th>\n      <th>headline1</th>\n      <th>ctr1</th>\n      <th>headline2</th>\n      <th>ctr2</th>\n      <th>date_created</th>\n      <th>numwords1</th>\n      <th>numwords2</th>\n      <th>first_person_singular1</th>\n      <th>first_person_plural1</th>\n      <th>second_person1</th>\n      <th>third_person_singular1</th>\n      <th>third_person_plural1</th>\n      <th>first_person_singular2</th>\n      <th>first_person_plural2</th>\n      <th>second_person2</th>\n      <th>third_person_singular2</th>\n      <th>third_person_plural2</th>\n      <th>winner</th>\n    </tr>\n  </thead>\n  <tbody>\n    <tr>\n      <th>0</th>\n      <td>This Is What Sexism Against Men Sounds Like</td>\n      <td>0.025525</td>\n      <td>This Is What Sexism Against Men Looks Like</td>\n      <td>0.024872</td>\n      <td>2014-11-20 06:54:36.335</td>\n      <td>8</td>\n      <td>8</td>\n      <td>0</td>\n      <td>0</td>\n      <td>0</td>\n      <td>0</td>\n      <td>0</td>\n      <td>0</td>\n      <td>0</td>\n      <td>0</td>\n      <td>0</td>\n      <td>0</td>\n      <td>1</td>\n    </tr>\n    <tr>\n      <th>1</th>\n      <td>This Is What Sexism Against Men Sounds Like</td>\n      <td>0.025525</td>\n      <td>This Is What Sexism Against Men Looks Like</td>\n      <td>0.024872</td>\n      <td>2014-11-20 06:54:36.335</td>\n      <td>8</td>\n      <td>8</td>\n      <td>0</td>\n      <td>0</td>\n      <td>0</td>\n      <td>0</td>\n      <td>0</td>\n      <td>0</td>\n      <td>0</td>\n      <td>0</td>\n      <td>0</td>\n      <td>0</td>\n      <td>1</td>\n    </tr>\n    <tr>\n      <th>2</th>\n      <td>A Science Guy Helps 3 Dudes From America Under...</td>\n      <td>0.012689</td>\n      <td>What They Learned From The Scientist Was Terri...</td>\n      <td>0.011101</td>\n      <td>2014-11-20 14:54:18.780</td>\n      <td>14</td>\n      <td>15</td>\n      <td>0</td>\n      <td>0</td>\n      <td>0</td>\n      <td>0</td>\n      <td>0</td>\n      <td>0</td>\n      <td>0</td>\n      <td>0</td>\n      <td>0</td>\n      <td>1</td>\n      <td>1</td>\n    </tr>\n  </tbody>\n</table>\n</div>"
     },
     "execution_count": 356,
     "metadata": {},
     "output_type": "execute_result"
    }
   ],
   "source": [
    "\n",
    "filtered_df['winner'] = np.where(filtered_df['ctr1'] > filtered_df['ctr2'], 1, 0)\n",
    "print(filtered_df['date_created'].dtype)\n",
    "filtered_df['date_created'] = pd.to_datetime(filtered_df['date_created'], errors='coerce', infer_datetime_format=True)\n",
    "\n",
    "filtered_data = filtered_df[pd.to_datetime(filtered_df['date_created'], errors='coerce') >= pd.to_datetime('2013-04-01')]\n",
    "\n",
    "filtered_df['winner'] = np.where(filtered_df['ctr1'] > filtered_df['ctr2'], 1, 0)\n",
    "filtered_df.head(3)\n"
   ]
  },
  {
   "cell_type": "code",
   "execution_count": 359,
   "outputs": [
    {
     "ename": "KeyError",
     "evalue": "'Requested level (winner) does not match index name (date_created)'",
     "output_type": "error",
     "traceback": [
      "\u001B[0;31m---------------------------------------------------------------------------\u001B[0m",
      "\u001B[0;31mKeyError\u001B[0m                                  Traceback (most recent call last)",
      "Cell \u001B[0;32mIn[359], line 3\u001B[0m\n\u001B[1;32m      1\u001B[0m monthly_avg_word_count \u001B[38;5;241m=\u001B[39m filtered_data\u001B[38;5;241m.\u001B[39mgroupby([pd\u001B[38;5;241m.\u001B[39mGrouper(key\u001B[38;5;241m=\u001B[39m\u001B[38;5;124m'\u001B[39m\u001B[38;5;124mdate_created\u001B[39m\u001B[38;5;124m'\u001B[39m, freq\u001B[38;5;241m=\u001B[39m\u001B[38;5;124m'\u001B[39m\u001B[38;5;124mM\u001B[39m\u001B[38;5;124m'\u001B[39m), \u001B[38;5;124m'\u001B[39m\u001B[38;5;124mwinner\u001B[39m\u001B[38;5;124m'\u001B[39m])[[\u001B[38;5;124m'\u001B[39m\u001B[38;5;124mnumwords1\u001B[39m\u001B[38;5;124m'\u001B[39m, \u001B[38;5;124m'\u001B[39m\u001B[38;5;124mnumwords2\u001B[39m\u001B[38;5;124m'\u001B[39m]]\u001B[38;5;241m.\u001B[39mmean()\u001B[38;5;241m.\u001B[39munstack()\n\u001B[1;32m      2\u001B[0m plt\u001B[38;5;241m.\u001B[39mfigure(figsize\u001B[38;5;241m=\u001B[39m(\u001B[38;5;241m10\u001B[39m, \u001B[38;5;241m6\u001B[39m))\n\u001B[0;32m----> 3\u001B[0m sns\u001B[38;5;241m.\u001B[39mlineplot(data\u001B[38;5;241m=\u001B[39mmonthly_avg_word_count[\u001B[38;5;124m'\u001B[39m\u001B[38;5;124mnumwords1\u001B[39m\u001B[38;5;124m'\u001B[39m], dashes\u001B[38;5;241m=\u001B[39m\u001B[38;5;28;01mFalse\u001B[39;00m, hue\u001B[38;5;241m=\u001B[39m\u001B[43mmonthly_avg_word_count\u001B[49m\u001B[38;5;241;43m.\u001B[39;49m\u001B[43mindex\u001B[49m\u001B[38;5;241;43m.\u001B[39;49m\u001B[43mget_level_values\u001B[49m\u001B[43m(\u001B[49m\u001B[38;5;124;43m'\u001B[39;49m\u001B[38;5;124;43mwinner\u001B[39;49m\u001B[38;5;124;43m'\u001B[39;49m\u001B[43m)\u001B[49m, palette\u001B[38;5;241m=\u001B[39m\u001B[38;5;124m'\u001B[39m\u001B[38;5;124mhusl\u001B[39m\u001B[38;5;124m'\u001B[39m)\n\u001B[1;32m      4\u001B[0m sns\u001B[38;5;241m.\u001B[39mlineplot(data\u001B[38;5;241m=\u001B[39mmonthly_avg_word_count[\u001B[38;5;124m'\u001B[39m\u001B[38;5;124mnumwords2\u001B[39m\u001B[38;5;124m'\u001B[39m], dashes\u001B[38;5;241m=\u001B[39m\u001B[38;5;28;01mFalse\u001B[39;00m, hue\u001B[38;5;241m=\u001B[39mmonthly_avg_word_count\u001B[38;5;241m.\u001B[39mindex\u001B[38;5;241m.\u001B[39mget_level_values(\u001B[38;5;124m'\u001B[39m\u001B[38;5;124mwinner\u001B[39m\u001B[38;5;124m'\u001B[39m), palette\u001B[38;5;241m=\u001B[39m\u001B[38;5;124m'\u001B[39m\u001B[38;5;124mhusl\u001B[39m\u001B[38;5;124m'\u001B[39m)\n\u001B[1;32m      5\u001B[0m plt\u001B[38;5;241m.\u001B[39mxlabel(\u001B[38;5;124m'\u001B[39m\u001B[38;5;124mDate\u001B[39m\u001B[38;5;124m'\u001B[39m)\n",
      "File \u001B[0;32m/Library/Frameworks/Python.framework/Versions/3.11/lib/python3.11/site-packages/pandas/core/indexes/base.py:2076\u001B[0m, in \u001B[0;36mIndex._get_level_values\u001B[0;34m(self, level)\u001B[0m\n\u001B[1;32m   2040\u001B[0m \u001B[38;5;28;01mdef\u001B[39;00m \u001B[38;5;21m_get_level_values\u001B[39m(\u001B[38;5;28mself\u001B[39m, level) \u001B[38;5;241m-\u001B[39m\u001B[38;5;241m>\u001B[39m Index:\n\u001B[1;32m   2041\u001B[0m \u001B[38;5;250m    \u001B[39m\u001B[38;5;124;03m\"\"\"\u001B[39;00m\n\u001B[1;32m   2042\u001B[0m \u001B[38;5;124;03m    Return an Index of values for requested level.\u001B[39;00m\n\u001B[1;32m   2043\u001B[0m \n\u001B[0;32m   (...)\u001B[0m\n\u001B[1;32m   2074\u001B[0m \u001B[38;5;124;03m    Index(['a', 'b', 'c'], dtype='object')\u001B[39;00m\n\u001B[1;32m   2075\u001B[0m \u001B[38;5;124;03m    \"\"\"\u001B[39;00m\n\u001B[0;32m-> 2076\u001B[0m     \u001B[38;5;28;43mself\u001B[39;49m\u001B[38;5;241;43m.\u001B[39;49m\u001B[43m_validate_index_level\u001B[49m\u001B[43m(\u001B[49m\u001B[43mlevel\u001B[49m\u001B[43m)\u001B[49m\n\u001B[1;32m   2077\u001B[0m     \u001B[38;5;28;01mreturn\u001B[39;00m \u001B[38;5;28mself\u001B[39m\n",
      "File \u001B[0;32m/Library/Frameworks/Python.framework/Versions/3.11/lib/python3.11/site-packages/pandas/core/indexes/base.py:1986\u001B[0m, in \u001B[0;36mIndex._validate_index_level\u001B[0;34m(self, level)\u001B[0m\n\u001B[1;32m   1982\u001B[0m         \u001B[38;5;28;01mraise\u001B[39;00m \u001B[38;5;167;01mIndexError\u001B[39;00m(\n\u001B[1;32m   1983\u001B[0m             \u001B[38;5;124mf\u001B[39m\u001B[38;5;124m\"\u001B[39m\u001B[38;5;124mToo many levels: Index has only 1 level, not \u001B[39m\u001B[38;5;132;01m{\u001B[39;00mlevel\u001B[38;5;250m \u001B[39m\u001B[38;5;241m+\u001B[39m\u001B[38;5;250m \u001B[39m\u001B[38;5;241m1\u001B[39m\u001B[38;5;132;01m}\u001B[39;00m\u001B[38;5;124m\"\u001B[39m\n\u001B[1;32m   1984\u001B[0m         )\n\u001B[1;32m   1985\u001B[0m \u001B[38;5;28;01melif\u001B[39;00m level \u001B[38;5;241m!=\u001B[39m \u001B[38;5;28mself\u001B[39m\u001B[38;5;241m.\u001B[39mname:\n\u001B[0;32m-> 1986\u001B[0m     \u001B[38;5;28;01mraise\u001B[39;00m \u001B[38;5;167;01mKeyError\u001B[39;00m(\n\u001B[1;32m   1987\u001B[0m         \u001B[38;5;124mf\u001B[39m\u001B[38;5;124m\"\u001B[39m\u001B[38;5;124mRequested level (\u001B[39m\u001B[38;5;132;01m{\u001B[39;00mlevel\u001B[38;5;132;01m}\u001B[39;00m\u001B[38;5;124m) does not match index name (\u001B[39m\u001B[38;5;132;01m{\u001B[39;00m\u001B[38;5;28mself\u001B[39m\u001B[38;5;241m.\u001B[39mname\u001B[38;5;132;01m}\u001B[39;00m\u001B[38;5;124m)\u001B[39m\u001B[38;5;124m\"\u001B[39m\n\u001B[1;32m   1988\u001B[0m     )\n",
      "\u001B[0;31mKeyError\u001B[0m: 'Requested level (winner) does not match index name (date_created)'"
     ]
    },
    {
     "data": {
      "text/plain": "<Figure size 1000x600 with 0 Axes>"
     },
     "metadata": {},
     "output_type": "display_data"
    }
   ],
   "source": [
    "monthly_avg_word_count = filtered_data.groupby([pd.Grouper(key='date_created', freq='M'), 'winner'])[['numwords1', 'numwords2']].mean().unstack()\n",
    "plt.figure(figsize=(10, 6))\n",
    "sns.lineplot(data=monthly_avg_word_count['numwords1'], dashes=False, hue=monthly_avg_word_count.index.get_level_values('winner'), palette='husl')\n",
    "sns.lineplot(data=monthly_avg_word_count['numwords2'], dashes=False, hue=monthly_avg_word_count.index.get_level_values('winner'), palette='husl')\n",
    "plt.xlabel('Date')\n",
    "plt.ylabel('Average Number of Words')\n",
    "plt.title('Monthly Average Number of Words in Winner and Loser Headlines')\n",
    "plt.legend(title='Winner', loc='best')\n",
    "plt.show()\n"
   ],
   "metadata": {
    "collapsed": false,
    "ExecuteTime": {
     "end_time": "2023-12-07T21:31:42.691007Z",
     "start_time": "2023-12-07T21:31:42.648989Z"
    }
   },
   "id": "bad54235c3badc2b"
  },
  {
   "cell_type": "markdown",
   "id": "bb12f5bb",
   "metadata": {},
   "source": [
    "4.2 Produce similar plots to each pronoun category, as well as for positive and negative sentiment. Here, unlike in **T4.1**, depict the month averages pooled across winner and loser headlines (i.e., for each month, you calculate the average across both winners and loser headlines).\n",
    "Create all these plots in a single figure with no more than 11 inches of width and 11 inches of height. Again, consider only headlines created after April 2013 (the month of April inclusive)."
   ]
  },
  {
   "cell_type": "code",
   "execution_count": null,
   "id": "c0cd2410",
   "metadata": {},
   "outputs": [],
   "source": []
  },
  {
   "cell_type": "markdown",
   "id": "9585ec83",
   "metadata": {},
   "source": [
    "4.3 **Discuss:** Has the type of headline Upworthy used in their A/B tests changed with time? Are these changes likely to be producing more or less engaging headlines? Justify."
   ]
  },
  {
   "cell_type": "code",
   "execution_count": null,
   "id": "732b5d53",
   "metadata": {},
   "outputs": [],
   "source": []
  },
  {
   "cell_type": "markdown",
   "id": "87795a0b",
   "metadata": {},
   "source": [
    "4.4 Divide your data into two periods, $t_1$, which goes from  April 2013 (inclusive) to March 2014 (inclusive), and $t_2$, which goes from April 2014 (inclusive) to the latest A/B test in the data. Create a dataframe for A/B tests in each period."
   ]
  },
  {
   "cell_type": "code",
   "execution_count": null,
   "id": "efe39e18",
   "metadata": {},
   "outputs": [],
   "source": []
  },
  {
   "cell_type": "markdown",
   "id": "065735c2",
   "metadata": {},
   "source": [
    "4.5 Let's examine if the effects observed remained the same throughout the study period. Use an appropriate methodology  of your choice to determine if the effects observed in **T3.8** (length, each category of pronouns, positive words, and negative words) were different in $t_1$ and $t_2$. Here, note that we are considering \"at least one positive outcome\" to be the manifestation of an underlying effect, thus significance level must be adjusted down when performing multiple hypothesis tests!"
   ]
  },
  {
   "cell_type": "code",
   "execution_count": null,
   "id": "e1e4350f",
   "metadata": {},
   "outputs": [],
   "source": []
  },
  {
   "cell_type": "markdown",
   "id": "e262b789",
   "metadata": {},
   "source": [
    "4.6 **Discuss:** Hypothesize two reasons that could have led to a change in the observed effects. According to the analysis done in **T4.5**, have the effects observed remained the same across the study period? "
   ]
  },
  {
   "cell_type": "markdown",
   "id": "d72ef5af",
   "metadata": {},
   "source": []
  },
  {
   "cell_type": "markdown",
   "id": "a588f8e7",
   "metadata": {},
   "source": [
    "4.7 The features we are studying may interact with each other. For instance, people may like first person singular pronouns in headlines containing positive words (you are amazing!), but dislike headlines with negative words and first person pronouns (you are awful!). To help answer this question, create:\n",
    "- A dataframe containing all A/B tests where both winner and loser headlines include a positive word.\n",
    "- A dataframe containing all A/B tests where both winner and loser headlines include a negative word."
   ]
  },
  {
   "cell_type": "code",
   "execution_count": null,
   "id": "708961c5",
   "metadata": {},
   "outputs": [],
   "source": []
  },
  {
   "cell_type": "markdown",
   "id": "9432a010",
   "metadata": {},
   "source": [
    "4.8 Using an appropriate methodology of your choice, determine if the effect of the use of first person singular pronouns in the headline is heterogeneous across headlines with positive words and negative words, i.e., is the effect significantly stronger for one of the dataframes created in **T4.7**? "
   ]
  },
  {
   "cell_type": "code",
   "execution_count": null,
   "id": "7a66afa6",
   "metadata": {},
   "outputs": [],
   "source": []
  },
  {
   "cell_type": "markdown",
   "id": "70888d20",
   "metadata": {},
   "source": [
    "4.9 **Discuss:** Considering the analyses you did throughout Tasks 3 and 4, write a short text (no more than 250 words) giving advice to Upworthy employees on how they should try to write engaging headlines. \n",
    "You can reference images present in the notebook by indicating a task (e.g., image plotted in **T3.3**) or a cell number. Note that you do not need to conduct any additional analysis to write this text. \n"
   ]
  },
  {
   "cell_type": "code",
   "execution_count": 145,
   "id": "fd3dc9f2",
   "metadata": {
    "ExecuteTime": {
     "end_time": "2023-12-07T18:20:19.610110Z",
     "start_time": "2023-12-07T18:20:19.594929Z"
    }
   },
   "outputs": [
    {
     "name": "stdout",
     "output_type": "stream",
     "text": [
      "------------------------------------------------------------------------------------------\n"
     ]
    }
   ],
   "source": [
    "print(\"-\"*90)"
   ]
  },
  {
   "cell_type": "markdown",
   "id": "2a90c087",
   "metadata": {},
   "source": [
    "## 4 Summing up\n",
    "Now you have implemented the pipeliene to continiously compare various headlines against each other and even through time. So it's time to come back and think, was it worth the endeavor? In other words, can you think of any other ways to achieve the same goal? It is also time (or maybe even late!) to think of the ethics of what you have done!\n",
    "\n",
    "5.1 **Discuss:** Try to think of other solutions that would possibly achieve the same goal. Maybe with less precision but also less complexity, cost of implementation, etc. Briefly explain your suggestions and how they would compromise accuracy for other objectives.  \n",
    "What ethical pitfalls can you imagine for what you did in this homework? Do you think that such statistical analysis is immune to unethical engagement optimization? It's quite obvious that a horrifying, decieving, or offensive headline would trigger more interaction than a descent one.\n"
   ]
  },
  {
   "cell_type": "markdown",
   "id": "497c7063",
   "metadata": {},
   "source": [
    "* ALTERNATIVE VIEWPOINTS\n",
    "Alternative Approaches:\n",
    "\n",
    "Employing sampling methods as an alternative to exhaustively processing the entire dataset and utilizing approximation algorithms rather than computing exact p-values can significantly enhance efficiency. Moreover, focusing on a select set of critical parameters rather than assessing numerous ones can streamline the process.\n",
    "Ethical Considerations:\n",
    "\n",
    "Singularly concentrating on Click-Through Rate (CTR) may pose ethical concerns as certain headlines could be sensational, misleading, or even harmful, aiming solely to boost click counts.\n",
    "Analyzing headlines devoid of context and user intent may result in the selection of irrelevant or misleading headlines. This can severely impact user trust and tarnish brand reputation."
   ]
  },
  {
   "cell_type": "markdown",
   "id": "72e59cc8",
   "metadata": {},
   "source": [
    "5.2 **Discuss:** Briefly explain how you think we can handle this trade-off. In other words, what can we do to stop our pipeline from getting biased towards unethical headlines?"
   ]
  },
  {
   "cell_type": "markdown",
   "id": "2ca6a122",
   "metadata": {},
   "source": [
    "one answer could be a unified world-wide guideline that limits unethical headlines and unethical usage of datascience. one concrete solution also may be an organization to observe usage of data science in marketing fields too."
   ]
  }
 ],
 "metadata": {
  "kernelspec": {
   "display_name": "Python 3 (ipykernel)",
   "language": "python",
   "name": "python3"
  },
  "language_info": {
   "codemirror_mode": {
    "name": "ipython",
    "version": 3
   },
   "file_extension": ".py",
   "mimetype": "text/x-python",
   "name": "python",
   "nbconvert_exporter": "python",
   "pygments_lexer": "ipython3",
   "version": "3.11.4"
  }
 },
 "nbformat": 4,
 "nbformat_minor": 5
}
